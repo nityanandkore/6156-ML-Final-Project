{
  "nbformat": 4,
  "nbformat_minor": 5,
  "metadata": {
    "kernelspec": {
      "display_name": "Python 3",
      "language": "python",
      "name": "python3"
    },
    "language_info": {
      "codemirror_mode": {
        "name": "ipython",
        "version": 3
      },
      "file_extension": ".py",
      "mimetype": "text/x-python",
      "name": "python",
      "nbconvert_exporter": "python",
      "pygments_lexer": "ipython3",
      "version": "3.7.4"
    },
    "colab": {
      "name": "Final_Project_04_NK.ipynb",
      "provenance": [],
      "include_colab_link": true
    }
  },
  "cells": [
    {
      "cell_type": "markdown",
      "metadata": {
        "id": "view-in-github",
        "colab_type": "text"
      },
      "source": [
        "<a href=\"https://colab.research.google.com/github/nityanandkore/6156-ML-Final-Project/blob/main/Final_Project_04_NK.ipynb\" target=\"_parent\"><img src=\"https://colab.research.google.com/assets/colab-badge.svg\" alt=\"Open In Colab\"/></a>"
      ]
    },
    {
      "cell_type": "markdown",
      "metadata": {
        "id": "MxTuXZsOZebk"
      },
      "source": [
        "# <span style='color:green'>Modeling Airline Flight Delays</span>"
      ],
      "id": "MxTuXZsOZebk"
    },
    {
      "cell_type": "code",
      "metadata": {
        "colab": {
          "base_uri": "https://localhost:8080/"
        },
        "id": "rIxxNzo3Zebo",
        "outputId": "7fc62feb-07e7-46af-b13a-228376cb6f47"
      },
      "source": [
        "# import libraries\n",
        "import os\n",
        "from IPython import display\n",
        "import numpy as np\n",
        "import pandas as pd\n",
        "import matplotlib.pyplot as plt\n",
        "%matplotlib inline\n",
        "from sklearn.linear_model import Ridge, LinearRegression, Lasso, RidgeCV, LassoCV, LogisticRegression\n",
        "from sklearn.model_selection import cross_val_score\n",
        "from sklearn.model_selection import cross_val_predict\n",
        "from sklearn.model_selection import train_test_split\n",
        "from sklearn.ensemble import RandomForestClassifier, RandomForestRegressor\n",
        "from sklearn.metrics import roc_auc_score, roc_curve\n",
        "import statsmodels.api as sm"
      ],
      "id": "rIxxNzo3Zebo",
      "execution_count": 26,
      "outputs": [
        {
          "output_type": "stream",
          "text": [
            "/usr/local/lib/python3.7/dist-packages/statsmodels/tools/_testing.py:19: FutureWarning: pandas.util.testing is deprecated. Use the functions in the public API at pandas.testing instead.\n",
            "  import pandas.util.testing as tm\n"
          ],
          "name": "stderr"
        }
      ]
    },
    {
      "cell_type": "code",
      "metadata": {
        "colab": {
          "base_uri": "https://localhost:8080/"
        },
        "id": "CRsESJwRZebr",
        "outputId": "62bcf1f7-fe64-48b1-d48b-63fc0bd05824"
      },
      "source": [
        "#This will allow me to avoid typing out the full file path each time I use read_csv\n",
        "import os\n",
        "\n",
        "a_path = \"C:\\\\<PATH>\"\n",
        "a_folder = \"Data\"\n",
        "a_file = \"IMG_DataCollecting.jpg\" # https://drive.google.com/file/d/1PHSosWV4_coJ7uac7HBe6nVWY1IvzQD4/view?usp=sharing\n",
        "joined_path = os.path.join(a_path, a_folder, a_file)\n",
        "\n",
        "print(joined_path)"
      ],
      "id": "CRsESJwRZebr",
      "execution_count": 27,
      "outputs": [
        {
          "output_type": "stream",
          "text": [
            "C:\\<PATH>/Data/IMG_DataCollecting.jpg\n"
          ],
          "name": "stdout"
        }
      ]
    },
    {
      "cell_type": "markdown",
      "metadata": {
        "id": "GC2r-rwuZebt"
      },
      "source": [
        "# I. Data Importing"
      ],
      "id": "GC2r-rwuZebt"
    },
    {
      "cell_type": "code",
      "metadata": {
        "id": "06wC3nQ4Zebu"
      },
      "source": [
        "#from IPython import display\n",
        "#display.Image(joined_path)\n"
      ],
      "id": "06wC3nQ4Zebu",
      "execution_count": 28,
      "outputs": []
    },
    {
      "cell_type": "markdown",
      "metadata": {
        "id": "r6WWWuT5jEWC"
      },
      "source": [
        "![picture](https://drive.google.com/uc?id=1PHSosWV4_coJ7uac7HBe6nVWY1IvzQD4)"
      ],
      "id": "r6WWWuT5jEWC"
    },
    {
      "cell_type": "code",
      "metadata": {
        "colab": {
          "base_uri": "https://localhost:8080/"
        },
        "id": "qVlacKGgZebv",
        "outputId": "8011a423-b5bd-4616-954f-e68a68204f56"
      },
      "source": [
        "# import FAA and summary datasets\n",
        "#joined_path = os.path.join(a_path, a_folder, \"FAA_aircraft_details.csv\")  # https://drive.google.com/file/d/1LBKAU9JwmEc5UmDLWEOq-2Ntm9TXEOsZ/view?usp=sharing\n",
        "#aircraft = pd.read_csv(joined_path)\n",
        "url = 'https://drive.google.com/uc?id=1LBKAU9JwmEc5UmDLWEOq-2Ntm9TXEOsZ'\n",
        "aircraft = pd.read_csv(url)\n",
        "\n",
        "#joined_path = os.path.join(a_path, a_folder, \"airline_carrier_volume.csv\") # https://drive.google.com/file/d/1MUWu0da02vQCWt7P0D21JAvA5a280XBL/view?usp=sharing\n",
        "#airline_vol = pd.read_csv(joined_path)\n",
        "url= 'https://drive.google.com/uc?id=1MUWu0da02vQCWt7P0D21JAvA5a280XBL'\n",
        "airline_vol = pd.read_csv(url)\n",
        "\n",
        "#joined_path = os.path.join(a_path, a_folder, \"airport_nodes_2018.csv\") # https://drive.google.com/file/d/1xNqu30SZjrcV_J8eWpZa20_m-ViESdXd/view?usp=sharing\n",
        "#airports_2018 = pd.read_csv(joined_path)\n",
        "url= 'https://drive.google.com/uc?id=1xNqu30SZjrcV_J8eWpZa20_m-ViESdXd'\n",
        "airports_2018 = pd.read_csv(url)\n",
        "\n",
        "#joined_path = os.path.join(a_path, a_folder, \"airport_nodes_2019.csv\") # https://drive.google.com/file/d/1gioGAw-7WieA4bQ3-el8PPD85KcF83T3/view?usp=sharing\n",
        "#airports_2019 = pd.read_csv(joined_path)\n",
        "url='https://drive.google.com/uc?id=1gioGAw-7WieA4bQ3-el8PPD85KcF83T3'\n",
        "airports_2019 = pd.read_csv(url)\n",
        "\n",
        "#joined_path = os.path.join(a_path, a_folder, \"edges_2018.csv\")  # https://drive.google.com/file/d/1TRsaIC04goKkCnWaDkuIo25etTt4QEQC/view?usp=sharing\n",
        "#airport_connections_2018 = pd.read_csv(joined_path)\n",
        "url= 'https://drive.google.com/uc?id=1TRsaIC04goKkCnWaDkuIo25etTt4QEQC'\n",
        "airport_connections_2018 = pd.read_csv(url)\n",
        "\n",
        "#joined_path = os.path.join(a_path, a_folder, \"edges_2019.csv\") # https://drive.google.com/file/d/1XXQEAHLaZ0ERkHIIAzV3wrmlQ4a8Fhug/view?usp=sharing\n",
        "#airport_connections_2019 = pd.read_csv(joined_path)\n",
        "url='https://drive.google.com/uc?id=1XXQEAHLaZ0ERkHIIAzV3wrmlQ4a8Fhug'\n",
        "airport_connections_2019 = pd.read_csv(url)\n",
        "\n",
        "#joined_path = os.path.join(a_path, a_folder, \"Airline_Codes.csv\") # https://drive.google.com/file/d/1esJ93wv0vfIdXf3UsExXDvv90Zl4s-Bp/view?usp=sharing\n",
        "#airline_codes = pd.read_csv(joined_path,encoding='latin1')\n",
        "url= 'https://drive.google.com/uc?id=1esJ93wv0vfIdXf3UsExXDvv90Zl4s-Bp'\n",
        "airline_codes = pd.read_csv(url,encoding='latin1')\n",
        "\n",
        "\n",
        "print('TABLE                    (ROWS, COLUMNS)')\n",
        "print('')\n",
        "print('aircraft:               ', aircraft.shape)\n",
        "print('airline volume:         ', airline_vol.shape)\n",
        "print('airports 2018:          ', airports_2018.shape)\n",
        "print('airports 2019:          ', airports_2019.shape)\n",
        "print('airport connects 2018:  ', airport_connections_2018.shape)\n",
        "print('airport connects 2019:  ', airport_connections_2019.shape)\n",
        "print('airline codes:          ', airline_codes.shape)"
      ],
      "id": "qVlacKGgZebv",
      "execution_count": 29,
      "outputs": [
        {
          "output_type": "stream",
          "text": [
            "TABLE                    (ROWS, COLUMNS)\n",
            "\n",
            "aircraft:                (6603, 55)\n",
            "airline volume:          (28, 14)\n",
            "airports 2018:           (371, 12)\n",
            "airports 2019:           (373, 12)\n",
            "airport connects 2018:   (6454, 4)\n",
            "airport connects 2019:   (6658, 4)\n",
            "airline codes:           (1652, 2)\n"
          ],
          "name": "stdout"
        }
      ]
    },
    {
      "cell_type": "markdown",
      "metadata": {
        "id": "AOWhreRaZebw"
      },
      "source": [
        "### Build Dataset (based on 2019 data)"
      ],
      "id": "AOWhreRaZebw"
    },
    {
      "cell_type": "code",
      "metadata": {
        "colab": {
          "base_uri": "https://localhost:8080/"
        },
        "id": "as04uYmbZebx",
        "outputId": "56380527-b81c-4396-c9ae-b8a5f85f0fad"
      },
      "source": [
        "# import 2019 flights (very large dataset)\n",
        "#joined_path = os.path.join(a_path, a_folder, \"flights_all_2019.csv\") # https://drive.google.com/file/d/1pPqmFyvOLPbBEr1zwjraxJwJfD1krGl3/view?usp=sharing\n",
        "#flights2019 = pd.read_csv(joined_path)\n",
        "url= 'https://drive.google.com/uc?id=1pPqmFyvOLPbBEr1zwjraxJwJfD1krGl3'  \n",
        "flights2019 = pd.read_csv(url)\n",
        "\n",
        "print('flights 2019 table dimensions: ', flights2019.shape)"
      ],
      "id": "as04uYmbZebx",
      "execution_count": 35,
      "outputs": [
        {
          "output_type": "stream",
          "text": [
            "flights 2019 table dimensions:  (1, 5)\n"
          ],
          "name": "stdout"
        }
      ]
    },
    {
      "cell_type": "markdown",
      "metadata": {
        "id": "QAOdw4qa3vak"
      },
      "source": [
        "Above Option didnt work so followed steps mentioned at: https://buomsoo-kim.github.io/colab/2018/04/16/Importing-files-from-Google-Drive-in-Google-Colab.md/"
      ],
      "id": "QAOdw4qa3vak"
    },
    {
      "cell_type": "code",
      "metadata": {
        "colab": {
          "base_uri": "https://localhost:8080/"
        },
        "id": "5Zgpxt0024Xl",
        "outputId": "1ef29053-eeed-48db-d931-6c4cfde02bb4"
      },
      "source": [
        "!pip install PyDrive"
      ],
      "id": "5Zgpxt0024Xl",
      "execution_count": 36,
      "outputs": [
        {
          "output_type": "stream",
          "text": [
            "Requirement already satisfied: PyDrive in /usr/local/lib/python3.7/dist-packages (1.3.1)\n",
            "Requirement already satisfied: google-api-python-client>=1.2 in /usr/local/lib/python3.7/dist-packages (from PyDrive) (1.12.8)\n",
            "Requirement already satisfied: oauth2client>=4.0.0 in /usr/local/lib/python3.7/dist-packages (from PyDrive) (4.1.3)\n",
            "Requirement already satisfied: PyYAML>=3.0 in /usr/local/lib/python3.7/dist-packages (from PyDrive) (3.13)\n",
            "Requirement already satisfied: uritemplate<4dev,>=3.0.0 in /usr/local/lib/python3.7/dist-packages (from google-api-python-client>=1.2->PyDrive) (3.0.1)\n",
            "Requirement already satisfied: google-auth-httplib2>=0.0.3 in /usr/local/lib/python3.7/dist-packages (from google-api-python-client>=1.2->PyDrive) (0.0.4)\n",
            "Requirement already satisfied: google-api-core<2dev,>=1.21.0 in /usr/local/lib/python3.7/dist-packages (from google-api-python-client>=1.2->PyDrive) (1.26.3)\n",
            "Requirement already satisfied: six<2dev,>=1.13.0 in /usr/local/lib/python3.7/dist-packages (from google-api-python-client>=1.2->PyDrive) (1.15.0)\n",
            "Requirement already satisfied: google-auth>=1.16.0 in /usr/local/lib/python3.7/dist-packages (from google-api-python-client>=1.2->PyDrive) (1.28.1)\n",
            "Requirement already satisfied: httplib2<1dev,>=0.15.0 in /usr/local/lib/python3.7/dist-packages (from google-api-python-client>=1.2->PyDrive) (0.17.4)\n",
            "Requirement already satisfied: pyasn1>=0.1.7 in /usr/local/lib/python3.7/dist-packages (from oauth2client>=4.0.0->PyDrive) (0.4.8)\n",
            "Requirement already satisfied: rsa>=3.1.4 in /usr/local/lib/python3.7/dist-packages (from oauth2client>=4.0.0->PyDrive) (4.7.2)\n",
            "Requirement already satisfied: pyasn1-modules>=0.0.5 in /usr/local/lib/python3.7/dist-packages (from oauth2client>=4.0.0->PyDrive) (0.2.8)\n",
            "Requirement already satisfied: setuptools>=40.3.0 in /usr/local/lib/python3.7/dist-packages (from google-api-core<2dev,>=1.21.0->google-api-python-client>=1.2->PyDrive) (56.0.0)\n",
            "Requirement already satisfied: packaging>=14.3 in /usr/local/lib/python3.7/dist-packages (from google-api-core<2dev,>=1.21.0->google-api-python-client>=1.2->PyDrive) (20.9)\n",
            "Requirement already satisfied: pytz in /usr/local/lib/python3.7/dist-packages (from google-api-core<2dev,>=1.21.0->google-api-python-client>=1.2->PyDrive) (2018.9)\n",
            "Requirement already satisfied: requests<3.0.0dev,>=2.18.0 in /usr/local/lib/python3.7/dist-packages (from google-api-core<2dev,>=1.21.0->google-api-python-client>=1.2->PyDrive) (2.23.0)\n",
            "Requirement already satisfied: googleapis-common-protos<2.0dev,>=1.6.0 in /usr/local/lib/python3.7/dist-packages (from google-api-core<2dev,>=1.21.0->google-api-python-client>=1.2->PyDrive) (1.53.0)\n",
            "Requirement already satisfied: protobuf>=3.12.0 in /usr/local/lib/python3.7/dist-packages (from google-api-core<2dev,>=1.21.0->google-api-python-client>=1.2->PyDrive) (3.12.4)\n",
            "Requirement already satisfied: cachetools<5.0,>=2.0.0 in /usr/local/lib/python3.7/dist-packages (from google-auth>=1.16.0->google-api-python-client>=1.2->PyDrive) (4.2.1)\n",
            "Requirement already satisfied: pyparsing>=2.0.2 in /usr/local/lib/python3.7/dist-packages (from packaging>=14.3->google-api-core<2dev,>=1.21.0->google-api-python-client>=1.2->PyDrive) (2.4.7)\n",
            "Requirement already satisfied: idna<3,>=2.5 in /usr/local/lib/python3.7/dist-packages (from requests<3.0.0dev,>=2.18.0->google-api-core<2dev,>=1.21.0->google-api-python-client>=1.2->PyDrive) (2.10)\n",
            "Requirement already satisfied: chardet<4,>=3.0.2 in /usr/local/lib/python3.7/dist-packages (from requests<3.0.0dev,>=2.18.0->google-api-core<2dev,>=1.21.0->google-api-python-client>=1.2->PyDrive) (3.0.4)\n",
            "Requirement already satisfied: urllib3!=1.25.0,!=1.25.1,<1.26,>=1.21.1 in /usr/local/lib/python3.7/dist-packages (from requests<3.0.0dev,>=2.18.0->google-api-core<2dev,>=1.21.0->google-api-python-client>=1.2->PyDrive) (1.24.3)\n",
            "Requirement already satisfied: certifi>=2017.4.17 in /usr/local/lib/python3.7/dist-packages (from requests<3.0.0dev,>=2.18.0->google-api-core<2dev,>=1.21.0->google-api-python-client>=1.2->PyDrive) (2020.12.5)\n"
          ],
          "name": "stdout"
        }
      ]
    },
    {
      "cell_type": "code",
      "metadata": {
        "id": "3bY1iqtp26n1"
      },
      "source": [
        "from pydrive.auth import GoogleAuth\n",
        "from pydrive.drive import GoogleDrive\n",
        "from google.colab import auth\n",
        "from oauth2client.client import GoogleCredentials"
      ],
      "id": "3bY1iqtp26n1",
      "execution_count": 37,
      "outputs": []
    },
    {
      "cell_type": "code",
      "metadata": {
        "id": "SQON-VIW26_a"
      },
      "source": [
        "auth.authenticate_user()\n",
        "gauth = GoogleAuth()\n",
        "gauth.credentials = GoogleCredentials.get_application_default()\n",
        "drive = GoogleDrive(gauth)"
      ],
      "id": "SQON-VIW26_a",
      "execution_count": 39,
      "outputs": []
    },
    {
      "cell_type": "markdown",
      "metadata": {
        "id": "KP_Xu7353MD7"
      },
      "source": [
        "Authorize with your Google ID, and paste in the link that comes up and press Enter!"
      ],
      "id": "KP_Xu7353MD7"
    },
    {
      "cell_type": "code",
      "metadata": {
        "id": "fSM7W0rW27Cv"
      },
      "source": [
        "downloaded = drive.CreateFile({'id':\"1pPqmFyvOLPbBEr1zwjraxJwJfD1krGl3\"})   # replace the id with id of file you want to access\n",
        "downloaded.GetContentFile('flights_all_2019.csv')        # replace the file name with your file"
      ],
      "id": "fSM7W0rW27Cv",
      "execution_count": 40,
      "outputs": []
    },
    {
      "cell_type": "code",
      "metadata": {
        "colab": {
          "base_uri": "https://localhost:8080/"
        },
        "id": "KTSs5lNk27GE",
        "outputId": "e08ae45e-9076-4df0-f663-84187d086a6a"
      },
      "source": [
        "flights2019 = pd.read_csv('flights_all_2019.csv')\n",
        "\n",
        "print('flights 2019 table dimensions: ', flights2019.shape)"
      ],
      "id": "KTSs5lNk27GE",
      "execution_count": 41,
      "outputs": [
        {
          "output_type": "stream",
          "text": [
            "flights 2019 table dimensions:  (8091684, 44)\n"
          ],
          "name": "stdout"
        }
      ]
    },
    {
      "cell_type": "code",
      "metadata": {
        "colab": {
          "base_uri": "https://localhost:8080/",
          "height": 309
        },
        "id": "s4-cmGeEzhwZ",
        "outputId": "0df53fca-5a3d-424e-c769-cefbcdf4201d"
      },
      "source": [
        "flights2019.head()"
      ],
      "id": "s4-cmGeEzhwZ",
      "execution_count": 42,
      "outputs": [
        {
          "output_type": "execute_result",
          "data": {
            "text/html": [
              "<div>\n",
              "<style scoped>\n",
              "    .dataframe tbody tr th:only-of-type {\n",
              "        vertical-align: middle;\n",
              "    }\n",
              "\n",
              "    .dataframe tbody tr th {\n",
              "        vertical-align: top;\n",
              "    }\n",
              "\n",
              "    .dataframe thead th {\n",
              "        text-align: right;\n",
              "    }\n",
              "</style>\n",
              "<table border=\"1\" class=\"dataframe\">\n",
              "  <thead>\n",
              "    <tr style=\"text-align: right;\">\n",
              "      <th></th>\n",
              "      <th>YEAR</th>\n",
              "      <th>QUARTER</th>\n",
              "      <th>MONTH</th>\n",
              "      <th>DAY_OF_MONTH</th>\n",
              "      <th>DAY_OF_WEEK</th>\n",
              "      <th>FL_DATE</th>\n",
              "      <th>OP_UNIQUE_CARRIER</th>\n",
              "      <th>OP_CARRIER_AIRLINE_ID</th>\n",
              "      <th>OP_CARRIER</th>\n",
              "      <th>TAIL_NUM</th>\n",
              "      <th>OP_CARRIER_FL_NUM</th>\n",
              "      <th>ORIGIN_AIRPORT_ID</th>\n",
              "      <th>ORIGIN_AIRPORT_SEQ_ID</th>\n",
              "      <th>ORIGIN</th>\n",
              "      <th>ORIGIN_CITY_NAME</th>\n",
              "      <th>ORIGIN_STATE_ABR</th>\n",
              "      <th>DEST_AIRPORT_ID</th>\n",
              "      <th>DEST_AIRPORT_SEQ_ID</th>\n",
              "      <th>DEST</th>\n",
              "      <th>DEST_CITY_NAME</th>\n",
              "      <th>DEST_STATE_ABR</th>\n",
              "      <th>CRS_DEP_TIME</th>\n",
              "      <th>DEP_TIME</th>\n",
              "      <th>DEP_DELAY</th>\n",
              "      <th>TAXI_OUT</th>\n",
              "      <th>WHEELS_OFF</th>\n",
              "      <th>WHEELS_ON</th>\n",
              "      <th>TAXI_IN</th>\n",
              "      <th>CRS_ARR_TIME</th>\n",
              "      <th>ARR_TIME</th>\n",
              "      <th>ARR_DELAY</th>\n",
              "      <th>CANCELLED</th>\n",
              "      <th>CANCELLATION_CODE</th>\n",
              "      <th>DIVERTED</th>\n",
              "      <th>DUP</th>\n",
              "      <th>CRS_ELAPSED_TIME</th>\n",
              "      <th>ACTUAL_ELAPSED_TIME</th>\n",
              "      <th>AIR_TIME</th>\n",
              "      <th>DISTANCE</th>\n",
              "      <th>DISTANCE_GROUP</th>\n",
              "      <th>FL_NUM_COMBO</th>\n",
              "      <th>FL_NUM_COMBO_FULL</th>\n",
              "      <th>ELAPSED_FROM_SCHED_DEP</th>\n",
              "      <th>ELAPSE_RATIO</th>\n",
              "    </tr>\n",
              "  </thead>\n",
              "  <tbody>\n",
              "    <tr>\n",
              "      <th>0</th>\n",
              "      <td>2019</td>\n",
              "      <td>1</td>\n",
              "      <td>1</td>\n",
              "      <td>11</td>\n",
              "      <td>5</td>\n",
              "      <td>2020-01-11</td>\n",
              "      <td>WN</td>\n",
              "      <td>19393</td>\n",
              "      <td>WN</td>\n",
              "      <td>N220WN</td>\n",
              "      <td>1480</td>\n",
              "      <td>13204</td>\n",
              "      <td>1320402</td>\n",
              "      <td>MCO</td>\n",
              "      <td>Orlando, FL</td>\n",
              "      <td>FL</td>\n",
              "      <td>14122</td>\n",
              "      <td>1412202</td>\n",
              "      <td>PIT</td>\n",
              "      <td>Pittsburgh, PA</td>\n",
              "      <td>PA</td>\n",
              "      <td>920</td>\n",
              "      <td>918.0</td>\n",
              "      <td>-2.0</td>\n",
              "      <td>9.0</td>\n",
              "      <td>927.0</td>\n",
              "      <td>1125.0</td>\n",
              "      <td>6.0</td>\n",
              "      <td>1135</td>\n",
              "      <td>1131.0</td>\n",
              "      <td>-4.0</td>\n",
              "      <td>0</td>\n",
              "      <td>NaN</td>\n",
              "      <td>0</td>\n",
              "      <td>N</td>\n",
              "      <td>135.0</td>\n",
              "      <td>133.0</td>\n",
              "      <td>118.0</td>\n",
              "      <td>834</td>\n",
              "      <td>4</td>\n",
              "      <td>WN 1480</td>\n",
              "      <td>1/11/2019 WN 1480 MCO to PIT</td>\n",
              "      <td>131.0</td>\n",
              "      <td>0.985185</td>\n",
              "    </tr>\n",
              "    <tr>\n",
              "      <th>1</th>\n",
              "      <td>2019</td>\n",
              "      <td>1</td>\n",
              "      <td>1</td>\n",
              "      <td>11</td>\n",
              "      <td>5</td>\n",
              "      <td>2020-01-11</td>\n",
              "      <td>WN</td>\n",
              "      <td>19393</td>\n",
              "      <td>WN</td>\n",
              "      <td>N7889A</td>\n",
              "      <td>2199</td>\n",
              "      <td>13204</td>\n",
              "      <td>1320402</td>\n",
              "      <td>MCO</td>\n",
              "      <td>Orlando, FL</td>\n",
              "      <td>FL</td>\n",
              "      <td>14122</td>\n",
              "      <td>1412202</td>\n",
              "      <td>PIT</td>\n",
              "      <td>Pittsburgh, PA</td>\n",
              "      <td>PA</td>\n",
              "      <td>1420</td>\n",
              "      <td>1422.0</td>\n",
              "      <td>2.0</td>\n",
              "      <td>14.0</td>\n",
              "      <td>1436.0</td>\n",
              "      <td>1635.0</td>\n",
              "      <td>5.0</td>\n",
              "      <td>1645</td>\n",
              "      <td>1640.0</td>\n",
              "      <td>-5.0</td>\n",
              "      <td>0</td>\n",
              "      <td>NaN</td>\n",
              "      <td>0</td>\n",
              "      <td>N</td>\n",
              "      <td>145.0</td>\n",
              "      <td>138.0</td>\n",
              "      <td>119.0</td>\n",
              "      <td>834</td>\n",
              "      <td>4</td>\n",
              "      <td>WN 2199</td>\n",
              "      <td>1/11/2019 WN 2199 MCO to PIT</td>\n",
              "      <td>140.0</td>\n",
              "      <td>0.951724</td>\n",
              "    </tr>\n",
              "    <tr>\n",
              "      <th>2</th>\n",
              "      <td>2019</td>\n",
              "      <td>1</td>\n",
              "      <td>1</td>\n",
              "      <td>11</td>\n",
              "      <td>5</td>\n",
              "      <td>2020-01-11</td>\n",
              "      <td>WN</td>\n",
              "      <td>19393</td>\n",
              "      <td>WN</td>\n",
              "      <td>N764SW</td>\n",
              "      <td>402</td>\n",
              "      <td>13204</td>\n",
              "      <td>1320402</td>\n",
              "      <td>MCO</td>\n",
              "      <td>Orlando, FL</td>\n",
              "      <td>FL</td>\n",
              "      <td>14307</td>\n",
              "      <td>1430705</td>\n",
              "      <td>PVD</td>\n",
              "      <td>Providence, RI</td>\n",
              "      <td>RI</td>\n",
              "      <td>1300</td>\n",
              "      <td>1259.0</td>\n",
              "      <td>-1.0</td>\n",
              "      <td>9.0</td>\n",
              "      <td>1308.0</td>\n",
              "      <td>1529.0</td>\n",
              "      <td>3.0</td>\n",
              "      <td>1545</td>\n",
              "      <td>1532.0</td>\n",
              "      <td>-13.0</td>\n",
              "      <td>0</td>\n",
              "      <td>NaN</td>\n",
              "      <td>0</td>\n",
              "      <td>N</td>\n",
              "      <td>165.0</td>\n",
              "      <td>153.0</td>\n",
              "      <td>141.0</td>\n",
              "      <td>1072</td>\n",
              "      <td>5</td>\n",
              "      <td>WN 402</td>\n",
              "      <td>1/11/2019 WN 402 MCO to PVD</td>\n",
              "      <td>152.0</td>\n",
              "      <td>0.927273</td>\n",
              "    </tr>\n",
              "    <tr>\n",
              "      <th>3</th>\n",
              "      <td>2019</td>\n",
              "      <td>1</td>\n",
              "      <td>1</td>\n",
              "      <td>11</td>\n",
              "      <td>5</td>\n",
              "      <td>2020-01-11</td>\n",
              "      <td>WN</td>\n",
              "      <td>19393</td>\n",
              "      <td>WN</td>\n",
              "      <td>N8309C</td>\n",
              "      <td>458</td>\n",
              "      <td>13204</td>\n",
              "      <td>1320402</td>\n",
              "      <td>MCO</td>\n",
              "      <td>Orlando, FL</td>\n",
              "      <td>FL</td>\n",
              "      <td>14307</td>\n",
              "      <td>1430705</td>\n",
              "      <td>PVD</td>\n",
              "      <td>Providence, RI</td>\n",
              "      <td>RI</td>\n",
              "      <td>2015</td>\n",
              "      <td>2010.0</td>\n",
              "      <td>-5.0</td>\n",
              "      <td>15.0</td>\n",
              "      <td>2025.0</td>\n",
              "      <td>2249.0</td>\n",
              "      <td>2.0</td>\n",
              "      <td>2255</td>\n",
              "      <td>2251.0</td>\n",
              "      <td>-4.0</td>\n",
              "      <td>0</td>\n",
              "      <td>NaN</td>\n",
              "      <td>0</td>\n",
              "      <td>N</td>\n",
              "      <td>160.0</td>\n",
              "      <td>161.0</td>\n",
              "      <td>144.0</td>\n",
              "      <td>1072</td>\n",
              "      <td>5</td>\n",
              "      <td>WN 458</td>\n",
              "      <td>1/11/2019 WN 458 MCO to PVD</td>\n",
              "      <td>156.0</td>\n",
              "      <td>1.006250</td>\n",
              "    </tr>\n",
              "    <tr>\n",
              "      <th>4</th>\n",
              "      <td>2019</td>\n",
              "      <td>1</td>\n",
              "      <td>1</td>\n",
              "      <td>11</td>\n",
              "      <td>5</td>\n",
              "      <td>2020-01-11</td>\n",
              "      <td>WN</td>\n",
              "      <td>19393</td>\n",
              "      <td>WN</td>\n",
              "      <td>N8686A</td>\n",
              "      <td>1966</td>\n",
              "      <td>13204</td>\n",
              "      <td>1320402</td>\n",
              "      <td>MCO</td>\n",
              "      <td>Orlando, FL</td>\n",
              "      <td>FL</td>\n",
              "      <td>14307</td>\n",
              "      <td>1430705</td>\n",
              "      <td>PVD</td>\n",
              "      <td>Providence, RI</td>\n",
              "      <td>RI</td>\n",
              "      <td>755</td>\n",
              "      <td>753.0</td>\n",
              "      <td>-2.0</td>\n",
              "      <td>10.0</td>\n",
              "      <td>803.0</td>\n",
              "      <td>1025.0</td>\n",
              "      <td>3.0</td>\n",
              "      <td>1035</td>\n",
              "      <td>1028.0</td>\n",
              "      <td>-7.0</td>\n",
              "      <td>0</td>\n",
              "      <td>NaN</td>\n",
              "      <td>0</td>\n",
              "      <td>N</td>\n",
              "      <td>160.0</td>\n",
              "      <td>155.0</td>\n",
              "      <td>142.0</td>\n",
              "      <td>1072</td>\n",
              "      <td>5</td>\n",
              "      <td>WN 1966</td>\n",
              "      <td>1/11/2019 WN 1966 MCO to PVD</td>\n",
              "      <td>153.0</td>\n",
              "      <td>0.968750</td>\n",
              "    </tr>\n",
              "  </tbody>\n",
              "</table>\n",
              "</div>"
            ],
            "text/plain": [
              "   YEAR  QUARTER  ...  ELAPSED_FROM_SCHED_DEP  ELAPSE_RATIO\n",
              "0  2019        1  ...                   131.0      0.985185\n",
              "1  2019        1  ...                   140.0      0.951724\n",
              "2  2019        1  ...                   152.0      0.927273\n",
              "3  2019        1  ...                   156.0      1.006250\n",
              "4  2019        1  ...                   153.0      0.968750\n",
              "\n",
              "[5 rows x 44 columns]"
            ]
          },
          "metadata": {
            "tags": []
          },
          "execution_count": 42
        }
      ]
    },
    {
      "cell_type": "code",
      "metadata": {
        "colab": {
          "base_uri": "https://localhost:8080/"
        },
        "id": "LAgpq981Zeby",
        "outputId": "b290f074-050d-4264-e55e-d8b35059e190"
      },
      "source": [
        "# Create a sample to work with until you're ready to use the entire dataset\n",
        "sample2019 = flights2019.sample(n=750000, random_state=123)\n",
        "\n",
        "print(sample2019.shape)"
      ],
      "id": "LAgpq981Zeby",
      "execution_count": 43,
      "outputs": [
        {
          "output_type": "stream",
          "text": [
            "(750000, 44)\n"
          ],
          "name": "stdout"
        }
      ]
    },
    {
      "cell_type": "code",
      "metadata": {
        "id": "YBTq2By1Zebz"
      },
      "source": [
        "# TO DO: Need to switch 'df' from the sample2019 table to the full table if you want to use the enture dataset\n",
        "\n",
        "\n",
        "# df will reference either the full data set or the sample of that dataset. \n",
        "# This way we can simply change this cell when we are ready to switch from the sample to the full dataset.\n",
        "df = sample2019\n",
        "# df = flights2019"
      ],
      "id": "YBTq2By1Zebz",
      "execution_count": 44,
      "outputs": []
    },
    {
      "cell_type": "code",
      "metadata": {
        "colab": {
          "base_uri": "https://localhost:8080/"
        },
        "id": "vYaZ5KQXZeb0",
        "outputId": "418be2cf-2fca-4ea3-a33b-efef95407410"
      },
      "source": [
        "# combine datasets into a single base table\n",
        "# Note: airports_2018 & airport_connections_2019 were used to get airport attributes from the prior year\n",
        "combo_2019 = df.merge(aircraft, \n",
        "                      on='TAIL_NUM',\n",
        "                      how='left').merge(airports_2018,\n",
        "                                        on=['ORIGIN_AIRPORT_ID', 'ORIGIN', 'ORIGIN_CITY_NAME', 'ORIGIN_STATE_ABR'],\n",
        "                                        how='left').merge(airport_connections_2018,\n",
        "                                                          on=['ORIGIN_AIRPORT_ID', 'DEST_AIRPORT_ID'],\n",
        "                                                          how='left').merge(airline_vol, \n",
        "                                                                            on=\"OP_UNIQUE_CARRIER\",\n",
        "                                                                            how='left')\n",
        "\n",
        "print(combo_2019.shape)"
      ],
      "id": "vYaZ5KQXZeb0",
      "execution_count": 45,
      "outputs": [
        {
          "output_type": "stream",
          "text": [
            "(750000, 121)\n"
          ],
          "name": "stdout"
        }
      ]
    },
    {
      "cell_type": "code",
      "metadata": {
        "colab": {
          "base_uri": "https://localhost:8080/"
        },
        "id": "tdGN7ivGZeb1",
        "outputId": "4ad2fb63-c49c-4945-ea4d-11eb5757e67c"
      },
      "source": [
        "# Make a new dataframe object that is a copy of our dataset.\n",
        "# This will allow us to experiment with making changes without changing the original dataset.\n",
        "BASE_TABLE = combo_2019.copy()\n",
        "\n",
        "# Create a variable to hold the number of rows in the BASE_TABLE for later reference\n",
        "n = BASE_TABLE.shape[0]\n",
        "print(\"n = \", n)"
      ],
      "id": "tdGN7ivGZeb1",
      "execution_count": 46,
      "outputs": [
        {
          "output_type": "stream",
          "text": [
            "n =  750000\n"
          ],
          "name": "stdout"
        }
      ]
    },
    {
      "cell_type": "code",
      "metadata": {
        "id": "2N4k24hJZeb2"
      },
      "source": [
        "# Some Aircraft Manufactures have more than one name in the dataset. Create consistent naming.\n",
        "\n",
        "# print(combo_2019.groupby('MFR_Aircraft').size())\n",
        "# print(\"\")\n",
        "\n",
        "# COMMENT OUT THIS CODE. There is already a column in the imported table called ACFT_MFR_DeDup that accomplishes this\n",
        "\n",
        "# BASE_TABLE.loc[BASE_TABLE.MFR_Aircraft.astype(str).str.contains('ALENIA', case=False), \"MFR_Aircraft\"] = \"ALENIA\"\n",
        "# BASE_TABLE.loc[BASE_TABLE.MFR_Aircraft.astype(str).str.contains('AIRBUS', case=False), \"MFR_Aircraft\"] = \"AIRBUS\"\n",
        "# BASE_TABLE.loc[BASE_TABLE.MFR_Aircraft.astype(str).str.contains('BOEING', case=False), \"MFR_Aircraft\"] = \"BOEING\"\n",
        "# BASE_TABLE.loc[BASE_TABLE.MFR_Aircraft.astype(str).str.contains('DIAMOND AIRCRAFT IND', case=False), \"MFR_Aircraft\"] = \"DIAMOND AIRCRAFT IND\"\n",
        "# BASE_TABLE.loc[BASE_TABLE.MFR_Aircraft.astype(str).str.contains('EMBRAER', case=False), \"MFR_Aircraft\"] = \"EMBRAER\"\n",
        "# BASE_TABLE.loc[BASE_TABLE.MFR_Aircraft.astype(str).str.contains('MCDONNELL DOUGLAS', case=False), \"MFR_Aircraft\"] = \"MCDONNELL DOUGLAS\"\n",
        "# BASE_TABLE.loc[BASE_TABLE.MFR_Aircraft.astype(str).str.contains('MOONEY', case=False), \"MFR_Aircraft\"] = \"MOONEY\"\n",
        "# BASE_TABLE.loc[BASE_TABLE.MFR_Aircraft.astype(str).str.contains('ROBINSON HELICOPTER CO', case=False), \"MFR_Aircraft\"] = \"ROBINSON HELICOPTER CO\"\n",
        "# BASE_TABLE.loc[BASE_TABLE.MFR_Aircraft == 'DOUGLAS', \"MFR_Aircraft\"] = \"MCDONNELL DOUGLAS\"\n",
        "\n",
        "# print(BASE_TABLE.groupby('ACFT_MFR_DeDup').size())"
      ],
      "id": "2N4k24hJZeb2",
      "execution_count": 47,
      "outputs": []
    },
    {
      "cell_type": "code",
      "metadata": {
        "colab": {
          "base_uri": "https://localhost:8080/"
        },
        "id": "T4dybJ_7Zeb5",
        "outputId": "69dab1ad-eb37-4bda-9b77-00c14746e1ca"
      },
      "source": [
        "[ i for i in BASE_TABLE.columns]"
      ],
      "id": "T4dybJ_7Zeb5",
      "execution_count": 48,
      "outputs": [
        {
          "output_type": "execute_result",
          "data": {
            "text/plain": [
              "['YEAR',\n",
              " 'QUARTER',\n",
              " 'MONTH',\n",
              " 'DAY_OF_MONTH',\n",
              " 'DAY_OF_WEEK',\n",
              " 'FL_DATE',\n",
              " 'OP_UNIQUE_CARRIER',\n",
              " 'OP_CARRIER_AIRLINE_ID',\n",
              " 'OP_CARRIER',\n",
              " 'TAIL_NUM',\n",
              " 'OP_CARRIER_FL_NUM',\n",
              " 'ORIGIN_AIRPORT_ID',\n",
              " 'ORIGIN_AIRPORT_SEQ_ID',\n",
              " 'ORIGIN',\n",
              " 'ORIGIN_CITY_NAME',\n",
              " 'ORIGIN_STATE_ABR',\n",
              " 'DEST_AIRPORT_ID',\n",
              " 'DEST_AIRPORT_SEQ_ID',\n",
              " 'DEST',\n",
              " 'DEST_CITY_NAME',\n",
              " 'DEST_STATE_ABR',\n",
              " 'CRS_DEP_TIME',\n",
              " 'DEP_TIME',\n",
              " 'DEP_DELAY',\n",
              " 'TAXI_OUT',\n",
              " 'WHEELS_OFF',\n",
              " 'WHEELS_ON',\n",
              " 'TAXI_IN',\n",
              " 'CRS_ARR_TIME',\n",
              " 'ARR_TIME',\n",
              " 'ARR_DELAY',\n",
              " 'CANCELLED',\n",
              " 'CANCELLATION_CODE',\n",
              " 'DIVERTED',\n",
              " 'DUP',\n",
              " 'CRS_ELAPSED_TIME',\n",
              " 'ACTUAL_ELAPSED_TIME',\n",
              " 'AIR_TIME',\n",
              " 'DISTANCE',\n",
              " 'DISTANCE_GROUP',\n",
              " 'FL_NUM_COMBO',\n",
              " 'FL_NUM_COMBO_FULL',\n",
              " 'ELAPSED_FROM_SCHED_DEP',\n",
              " 'ELAPSE_RATIO',\n",
              " 'N_Number',\n",
              " 'SOURCE2',\n",
              " 'SERIAL_NUMBER',\n",
              " 'MFR_MDL_CODE',\n",
              " 'ENG_MFR_MDL',\n",
              " 'YEAR_MFR',\n",
              " 'TYPE_REGISTRANT',\n",
              " 'NAME',\n",
              " 'STREET',\n",
              " 'STREET2',\n",
              " 'CITY',\n",
              " 'STATE',\n",
              " 'ZIP_CODE',\n",
              " 'REGION',\n",
              " 'COUNTY',\n",
              " 'COUNTRY',\n",
              " 'LAST_ACTION_DATE',\n",
              " 'CERT_ISSUE_DATE',\n",
              " 'CERTIFICATION',\n",
              " 'TYPE_AIRCRAFT',\n",
              " 'TYPE_ENGINE',\n",
              " 'STATUS_CODE',\n",
              " 'MODE_S_CODE',\n",
              " 'FRACT_OWNER',\n",
              " 'AIR_WORTH_DATE',\n",
              " 'OTHER_NAMES_1',\n",
              " 'OTHER_NAMES_1.1',\n",
              " 'OTHER_NAMES_1.2',\n",
              " 'OTHER_NAMES_1.3',\n",
              " 'OTHER_NAMES_1.4',\n",
              " 'EXPIRATION_DATE',\n",
              " 'UNIQUE_ID',\n",
              " 'KIT_MFR',\n",
              " '_KIT_MODEL',\n",
              " 'MODE_S_CODE_HEX',\n",
              " 'SOURCE3',\n",
              " 'MFR_Aircraft',\n",
              " 'MODEL_Aircraft',\n",
              " 'TYPE_ACFT',\n",
              " 'TYPE_ENG',\n",
              " 'AC_CAT',\n",
              " 'BUILD_CERT_IND',\n",
              " 'NO_ENG',\n",
              " 'NO_SEATS',\n",
              " 'AC_WEIGHT',\n",
              " 'SPEED',\n",
              " 'SOURCE4',\n",
              " 'MFR_Engine',\n",
              " 'MODEL_Engine',\n",
              " 'TYPE',\n",
              " 'HORSEPOWER',\n",
              " 'THRUST',\n",
              " 'ACFT_MFR_DeDup',\n",
              " 'ENGREF_MATCHES',\n",
              " 'annual_departure_count',\n",
              " 'median_monthly_dep_cnt',\n",
              " 'mean_monthly_dep_cnt',\n",
              " 'airline_count',\n",
              " 'median_dep_delay',\n",
              " 'mean_dep_delay',\n",
              " 'annual_cancellations',\n",
              " 'pct_flts_cx',\n",
              " 'annual_number_of_flights_btwn',\n",
              " 'distance',\n",
              " 'ACTIVE_AIRCRAFT_CNT_2018',\n",
              " 'ANNUAL_FLT_CNT_2018',\n",
              " 'ANNUAL_AIR_MILES_2018',\n",
              " 'AVG_MONTHLY_FLT_CNT_2018',\n",
              " 'AVG_MONTHLY_AIR_MILES_2018',\n",
              " 'ACTIVE_AIRCRAFT_CNT_2019',\n",
              " 'ANNUAL_FLT_CNT_2019',\n",
              " 'ANNUAL_AIR_MILES_2019',\n",
              " 'AVG_MONTHLY_FLT_CNT_2019',\n",
              " 'AVG_MONTHLY_AIR_MILES_2019',\n",
              " 'ACTIVE_AIRCRAFT_CNT_2020',\n",
              " 'AVG_MONTHLY_FLT_CNT_2020',\n",
              " 'AVG_MONTHLY_AIR_MILES_2020']"
            ]
          },
          "metadata": {
            "tags": []
          },
          "execution_count": 48
        }
      ]
    },
    {
      "cell_type": "code",
      "metadata": {
        "id": "0VqH6cKAZeb6"
      },
      "source": [
        "# Some Aircraft Models also need consistent naming\n",
        "\n",
        "\n",
        "# COMMENT OUT THIS CODE. This was already accomplished in the base table that was imported\n",
        "\n",
        "# BASE_TABLE.loc[BASE_TABLE.MODEL_Aircraft=='ATR 42-500', \"MODEL_Aircraft\"] = \"ATR42-500\"\n",
        "# BASE_TABLE.loc[BASE_TABLE.MODEL_Aircraft=='DC-9-83 (MD-83)', \"MODEL_Aircraft\"] = \"DC-9-83(MD-83)\"\n",
        "# BASE_TABLE.loc[BASE_TABLE.MODEL_Aircraft=='DC-9-83', \"MODEL_Aircraft\"] = \"DC-9-83(MD-83)\"\n",
        "# BASE_TABLE.loc[BASE_TABLE.MODEL_Aircraft=='MD-83', \"MODEL_Aircraft\"] = \"DC-9-83(MD-83)\"\n",
        "# BASE_TABLE.loc[BASE_TABLE.MODEL_Aircraft=='MD 83', \"MODEL_Aircraft\"] = \"DC-9-83(MD-83)\"\n",
        "# BASE_TABLE.loc[BASE_TABLE.MODEL_Aircraft=='SAAB 2000', \"MODEL_Aircraft\"] = \"2000\"\n",
        "# BASE_TABLE.loc[BASE_TABLE.MODEL_Aircraft=='SAAB 340B', \"MODEL_Aircraft\"] = \"340B\""
      ],
      "id": "0VqH6cKAZeb6",
      "execution_count": 49,
      "outputs": []
    },
    {
      "cell_type": "code",
      "metadata": {
        "scrolled": true,
        "id": "ehnHYyE5Zeb7"
      },
      "source": [
        "# Create a column to hold the aircraft model group\n",
        "\n",
        "BASE_TABLE['MODEL_GROUP_Aircraft'] = BASE_TABLE['MODEL_Aircraft'].astype(str)\n",
        "\n",
        "BASE_TABLE.loc[BASE_TABLE.MODEL_GROUP_Aircraft.astype(str).str.contains('737', case=False), \"MODEL_GROUP_Aircraft\"] = \"737\"\n",
        "BASE_TABLE.loc[BASE_TABLE.MODEL_GROUP_Aircraft.astype(str).str.contains('757', case=False), \"MODEL_GROUP_Aircraft\"] = \"757\"\n",
        "BASE_TABLE.loc[BASE_TABLE.MODEL_GROUP_Aircraft.astype(str).str.contains('767', case=False), \"MODEL_GROUP_Aircraft\"] = \"767\"\n",
        "BASE_TABLE.loc[BASE_TABLE.MODEL_GROUP_Aircraft.astype(str).str.contains('777', case=False), \"MODEL_GROUP_Aircraft\"] = \"777\"\n",
        "BASE_TABLE.loc[BASE_TABLE.MODEL_GROUP_Aircraft.astype(str).str.contains('787', case=False), \"MODEL_GROUP_Aircraft\"] = \"787\"\n",
        "BASE_TABLE.loc[BASE_TABLE.MODEL_GROUP_Aircraft.astype(str).str.contains('A319', case=False), \"MODEL_GROUP_Aircraft\"] = \"A319\"\n",
        "BASE_TABLE.loc[BASE_TABLE.MODEL_GROUP_Aircraft.astype(str).str.contains('A320', case=False), \"MODEL_GROUP_Aircraft\"] = \"A320\"\n",
        "BASE_TABLE.loc[BASE_TABLE.MODEL_GROUP_Aircraft.astype(str).str.contains('A321', case=False), \"MODEL_GROUP_Aircraft\"] = \"A321\"\n",
        "BASE_TABLE.loc[BASE_TABLE.MODEL_GROUP_Aircraft.astype(str).str.contains('CL-600', case=False), \"MODEL_GROUP_Aircraft\"] = \"CL-600\"\n",
        "BASE_TABLE.loc[BASE_TABLE.MODEL_GROUP_Aircraft.astype(str).str.contains('DC-9', case=False), \"MODEL_GROUP_Aircraft\"] = \"DC-9\"\n",
        "BASE_TABLE.loc[BASE_TABLE.MODEL_GROUP_Aircraft.astype(str).str.contains('DHC-8', case=False), \"MODEL_GROUP_Aircraft\"] = \"DHC-8\"\n",
        "BASE_TABLE.loc[BASE_TABLE.MODEL_GROUP_Aircraft.astype(str).str.contains('EMB-145', case=False), \"MODEL_GROUP_Aircraft\"] = \"EMB-145\"\n",
        "BASE_TABLE.loc[BASE_TABLE.MODEL_GROUP_Aircraft.astype(str).str.contains('ERJ 170', case=False), \"MODEL_GROUP_Aircraft\"] = \"ERJ 170\"\n",
        "BASE_TABLE.loc[BASE_TABLE.MODEL_GROUP_Aircraft.astype(str).str.contains('ERJ 190', case=False), \"MODEL_GROUP_Aircraft\"] = \"ERJ 190\"\n",
        "\n",
        "print(\"10 most common aircraft model groups:\")\n",
        "print(BASE_TABLE.groupby('MODEL_GROUP_Aircraft').size().sort_values(ascending=False)[0:10])"
      ],
      "id": "ehnHYyE5Zeb7",
      "execution_count": null,
      "outputs": []
    },
    {
      "cell_type": "code",
      "metadata": {
        "id": "yEryrxHKZeb8"
      },
      "source": [
        "# Some engine manufacturers need consistent naming\n",
        "\n",
        "# print(BASE_TABLE.MFR_Engine.value_counts())\n",
        "# print(\"\")\n",
        "\n",
        "BASE_TABLE.loc[BASE_TABLE.MFR_Engine.astype(str).str.contains('CFM INTL', case=False), \"MFR_Engine\"] = \"CFM INTL\"\n",
        "BASE_TABLE.loc[BASE_TABLE.MFR_Engine.astype(str).str.contains('P & W', case=False), \"MFR_Engine\"] = \"P&W\"\n",
        "BASE_TABLE.loc[BASE_TABLE.MFR_Engine.astype(str).str.contains('P&W CANADA', case=False), \"MFR_Engine\"] = \"P&W\"\n",
        "BASE_TABLE.loc[BASE_TABLE.MFR_Engine.astype(str).str.contains('ROLLS', case=False), \"MFR_Engine\"] = \"ROLLS-ROYC\"\n",
        "\n",
        "print(BASE_TABLE.MFR_Engine.value_counts())"
      ],
      "id": "yEryrxHKZeb8",
      "execution_count": null,
      "outputs": []
    },
    {
      "cell_type": "code",
      "metadata": {
        "id": "StLY-Q1HZeb9"
      },
      "source": [
        "# Export the combined base table to csv\n",
        "\n",
        "# This has been done. Commenting out below code to avoid accidental overwrite. \n",
        "\n",
        "# joined_path = os.path.join(a_path, a_folder, \"COMBINED_TABLE_2019.csv\")\n",
        "# BASE_TABLE.to_csv(joined_path, index=False)"
      ],
      "id": "StLY-Q1HZeb9",
      "execution_count": null,
      "outputs": []
    },
    {
      "cell_type": "markdown",
      "metadata": {
        "id": "WA7NDzyFZeb-"
      },
      "source": [
        "________________________________________________________________________________"
      ],
      "id": "WA7NDzyFZeb-"
    },
    {
      "cell_type": "markdown",
      "metadata": {
        "id": "YRqVaocMZeb_"
      },
      "source": [
        "# II. Data Exploration"
      ],
      "id": "YRqVaocMZeb_"
    },
    {
      "cell_type": "code",
      "metadata": {
        "id": "1MKglVb1Zeb_"
      },
      "source": [
        "#display.Image(os.path.join(a_path, a_folder, \"IMG_Explorer.jpg\")) # https://drive.google.com/file/d/1rE1-JbMCeoR6hEXeZV36KW1jnCTrDFb_/view?usp=sharing"
      ],
      "id": "1MKglVb1Zeb_",
      "execution_count": null,
      "outputs": []
    },
    {
      "cell_type": "markdown",
      "metadata": {
        "id": "mCMNIZyLj5FZ"
      },
      "source": [
        "![picture](https://drive.google.com/uc?id=1rE1-JbMCeoR6hEXeZV36KW1jnCTrDFb_)"
      ],
      "id": "mCMNIZyLj5FZ"
    },
    {
      "cell_type": "code",
      "metadata": {
        "id": "NuET-z9qZecA"
      },
      "source": [
        "# If opening a new session with this notebook, you can import the combo dataset instead of running the above code.\n",
        "# Note: Importing the full dataset takes a very long time. It's better to just run the code above.\n",
        "# To import, uncomment the lines of code below:\n",
        "\n",
        "# joined_path = os.path.join(a_path, a_folder, \"COMBINED_TABLE_2018.csv\")\n",
        "# BASE_TABLE = pd.read_csv(joined_path, low_memory=False)"
      ],
      "id": "NuET-z9qZecA",
      "execution_count": null,
      "outputs": []
    },
    {
      "cell_type": "code",
      "metadata": {
        "id": "GRd_68DzZecB"
      },
      "source": [
        "# Create a working copy of the BASE_TABLE to make further transformations to\n",
        "basecopy = BASE_TABLE.copy()"
      ],
      "id": "GRd_68DzZecB",
      "execution_count": null,
      "outputs": []
    },
    {
      "cell_type": "code",
      "metadata": {
        "id": "cGgffoUHZecB"
      },
      "source": [
        "# Target Variable Source Column: DEP_DELAY\n",
        "\n",
        "# Potention Predictor Variable Source Columns:\n",
        "\n",
        "# QUARTER     \n",
        "# MONTH     \n",
        "# DAY_OF_MONTH     \n",
        "# DAY_OF_WEEK     \n",
        "# OP_CARRIER     \n",
        "# ORIGIN     \n",
        "# ORIGIN_CITY_NAME (ignore)   \n",
        "# ORIGIN_STATE_ABR (ignore)\n",
        "# DEST             (ignore)\n",
        "# DEST_CITY_NAME   (ignore)\n",
        "# DEST_STATE_ABR   (ignore)\n",
        "# CRS_DEP_TIME                    (numeric)\n",
        "# DISTANCE                        (numeric)\n",
        "# DISTANCE_GROUP\n",
        "# YEAR_MFR                        (numeric)\n",
        "# TYPE_AIRCRAFT\n",
        "# TYPE_ENGINE\n",
        "# NO_ENG                          (numeric)\n",
        "# NO_SEATS                        (numeric)\n",
        "# AC_WEIGHT\n",
        "# MFR_Engine\n",
        "# THRUST\n",
        "# ACFT_MFR_DeDup\n",
        "# ENGREF_MATCHES                  (as a filtering column if engine columns are significant)\n",
        "# annual_departure_count          (numeric)\n",
        "# median_monthly_dep_cnt          (numeric)\n",
        "# mean_monthly_dep_cnt            (numeric)\n",
        "# airline_count                   (numeric)\n",
        "# annual_number_of_flights_btwn   (numeric)\n",
        "# distance_btwn                   (numeric)\n",
        "# ACTIVE_AIRCRAFT_CNT_2018        (numeric)   \n",
        "# ANNUAL_FLT_CNT_2018             (numeric)\n",
        "# ANNUAL_AIR_MILES_2018           (numeric)\n",
        "# MODEL_GROUP_Aircraft"
      ],
      "id": "cGgffoUHZecB",
      "execution_count": null,
      "outputs": []
    },
    {
      "cell_type": "code",
      "metadata": {
        "id": "uAU7vXdDZecC"
      },
      "source": [
        "# *************** MAKE BINARY TARGET COLUMNS ***************\n",
        "\n",
        "# Create a binary versions of the target variable\n",
        "basecopy[\"DEP_DELAY_GE15\"] = (basecopy[\"DEP_DELAY\"]>=15).astype(int)\n",
        "basecopy[\"DEP_DELAY_GE30\"] = (basecopy[\"DEP_DELAY\"]>=30).astype(int)\n",
        "basecopy[\"DEP_DELAY_GE45\"] = (basecopy[\"DEP_DELAY\"]>=45).astype(int)\n",
        "basecopy[\"DEP_DELAY_GE60\"] = (basecopy[\"DEP_DELAY\"]>=60).astype(int)\n",
        "\n",
        "# Also create a version of the target column that is in hours instead of minutes\n",
        "basecopy[\"DEP_DELAY_HR\"] = round(basecopy[\"DEP_DELAY\"]/60, 2)\n",
        "\n",
        "\n",
        "# Confirm that the new columns look correct:\n",
        "# print(basecopy.loc[basecopy.DEP_DELAY>-10,\n",
        "#                    [\"DEP_DELAY_HR\", \"DEP_DELAY\", \"DEP_DELAY_GE30\", \"DEP_DELAY_GE45\", \"DEP_DELAY_GE60\"]].head(10))"
      ],
      "id": "uAU7vXdDZecC",
      "execution_count": null,
      "outputs": []
    },
    {
      "cell_type": "code",
      "metadata": {
        "id": "4NKyI6PMZecD"
      },
      "source": [
        "#basecopy.to_csv(joined_path, index=False)"
      ],
      "id": "4NKyI6PMZecD",
      "execution_count": null,
      "outputs": []
    },
    {
      "cell_type": "code",
      "metadata": {
        "id": "BXVRoLuJZecD"
      },
      "source": [
        "np.random.uniform(size=basecopy.shape[0])"
      ],
      "id": "BXVRoLuJZecD",
      "execution_count": null,
      "outputs": []
    },
    {
      "cell_type": "code",
      "metadata": {
        "id": "w0cJc2ZOZecE"
      },
      "source": [
        "# *************** TRAIN/TEST SPLIT ***************\n",
        "\n",
        "# Keep 60% for training, 20% for validation, and 20% for backtesting after model is completed.\n",
        "# We are doing this at the beginning of the analysis phase so that any insights we use are for the training set only.\n",
        "np.random.seed(123)\n",
        "basecopy[\"randuni\"]=np.random.uniform(size=basecopy.shape[0])\n",
        "\n",
        "training = basecopy[basecopy.randuni<=0.60].copy()\n",
        "validation = basecopy[(basecopy.randuni>0.60) & (basecopy.randuni<=0.80)].copy()\n",
        "backtest = basecopy[basecopy.randuni>0.80].copy()\n",
        "\n",
        "print(\"training pct:   \", 100*training.shape[0]/n , \"%\")\n",
        "print(\"validation pct: \", 100*validation.shape[0]/n , \"%\")\n",
        "print(\"backtest pct:   \", 100*backtest.shape[0]/n , \"%\")\n",
        "print(\"\")\n",
        "print(training.shape[0], \" + \", validation.shape[0], \" + \", backtest.shape[0], \" = \",\n",
        "      training.shape[0] + validation.shape[0] + backtest.shape[0])\n",
        "print(\"\")\n",
        "print(\"Confirm that the percent delayed is similar for all three datasets:\")\n",
        "print(\"training delay rate:   \", round(100*training[training.DEP_DELAY>=30].shape[0]/training.shape[0], 1), \"%\")\n",
        "print(\"validation delay rate: \", round(100*validation[validation.DEP_DELAY>=30].shape[0]/validation.shape[0], 1), \"%\")\n",
        "print(\"backtest delay rate:   \", round(100*backtest[backtest.DEP_DELAY>=30].shape[0]/backtest.shape[0], 1), \"%\")"
      ],
      "id": "w0cJc2ZOZecE",
      "execution_count": null,
      "outputs": []
    },
    {
      "cell_type": "markdown",
      "metadata": {
        "id": "MfKeUd9xZecF"
      },
      "source": [
        "#### Target Variable Exploration"
      ],
      "id": "MfKeUd9xZecF"
    },
    {
      "cell_type": "code",
      "metadata": {
        "id": "GD1gIStSZecG"
      },
      "source": [
        "# Dependent Variable\n",
        "\n",
        "# Distribution\n",
        "print(\"DISTRIBUTION OF DEP_DELAY\")\n",
        "print(training[\"DEP_DELAY\"].describe())\n",
        "print(\"\")\n",
        "print(\"\")\n",
        "\n",
        "print(\"At least 15min delay row count: \", training[training.DEP_DELAY>=15].shape[0])\n",
        "print(\"At least 15min delay row count: \", round(100*training[training.DEP_DELAY>10].shape[0]/training.shape[0], 1), \"%\")\n",
        "print(\"\")\n",
        "print(\"At least 30min delay row count: \", training[training.DEP_DELAY>=30].shape[0])\n",
        "print(\"At least 30min delay frequency: \", round(100*training[training.DEP_DELAY>=30].shape[0]/training.shape[0], 1), \"%\")\n",
        "print(\"\")\n",
        "print(\"At least 45min delay row count: \", training[training.DEP_DELAY>=45].shape[0])\n",
        "print(\"At least 45min delay frequency: \", round(100*training[training.DEP_DELAY>=45].shape[0]/training.shape[0], 1), \"%\")\n",
        "print(\"\")\n",
        "print(\"At least 60min delay row count: \", training[training.DEP_DELAY>=60].shape[0])\n",
        "print(\"At least 60min delay frequency: \", round(100*training[training.DEP_DELAY>=60].shape[0]/training.shape[0], 1), \"%\")"
      ],
      "id": "GD1gIStSZecG",
      "execution_count": null,
      "outputs": []
    },
    {
      "cell_type": "code",
      "metadata": {
        "id": "RXi7a7wUZecG"
      },
      "source": [
        "# Plot a histogram of target distribution\n",
        "training[\"DEP_DELAY\"].hist(bins='auto')\n",
        "plt.title(\"Distribution of Target Variable\")\n",
        "plt.xlabel(\"target value\")\n",
        "plt.ylabel(\"count\")\n",
        "print(\"\")"
      ],
      "id": "RXi7a7wUZecG",
      "execution_count": null,
      "outputs": []
    },
    {
      "cell_type": "code",
      "metadata": {
        "id": "7_R6Rgx7ZecH"
      },
      "source": [
        "np.log(training[training.DEP_DELAY>0][\"DEP_DELAY\"]).hist(bins='auto')\n",
        "plt.title(\"Distribution of Target Variable\")\n",
        "plt.xlabel(\"natural log of target value\")\n",
        "plt.ylabel(\"count\")\n",
        "print(\"\")"
      ],
      "id": "7_R6Rgx7ZecH",
      "execution_count": null,
      "outputs": []
    },
    {
      "cell_type": "markdown",
      "metadata": {
        "id": "ZJgYlH6AZecI"
      },
      "source": [
        "#### Numeric Predictor Exploration"
      ],
      "id": "ZJgYlH6AZecI"
    },
    {
      "cell_type": "code",
      "metadata": {
        "id": "L0KiT8oUZecI"
      },
      "source": [
        "# CRS_DEP_TIME\n",
        "# The last two digits of the departure time are the minutes. \n",
        "\n",
        "print(\"Min Dep Time: \", np.min(training.CRS_DEP_TIME))\n",
        "print(\"Max Dep Time: \", np.max(training.CRS_DEP_TIME))"
      ],
      "id": "L0KiT8oUZecI",
      "execution_count": null,
      "outputs": []
    },
    {
      "cell_type": "code",
      "metadata": {
        "id": "SG35591DZecJ"
      },
      "source": [
        "training[['DISTANCE', 'NO_SEATS', 'annual_departure_count', 'airline_count', 'annual_number_of_flights_btwn', \n",
        "          'ACTIVE_AIRCRAFT_CNT_2018', 'ANNUAL_FLT_CNT_2018', 'ANNUAL_AIR_MILES_2018']].describe()\n",
        "\n",
        "\n",
        "# NOTE: Half the airports have more than 136K flights a year according to annual_departure_count "
      ],
      "id": "SG35591DZecJ",
      "execution_count": null,
      "outputs": []
    },
    {
      "cell_type": "code",
      "metadata": {
        "id": "9Ti2VFFbZecK"
      },
      "source": [
        "# Take a small random sample for faster graphing\n",
        "trainingSample = training.sample(n=10000, random_state=123)"
      ],
      "id": "9Ti2VFFbZecK",
      "execution_count": null,
      "outputs": []
    },
    {
      "cell_type": "code",
      "metadata": {
        "id": "V7jpLk42ZecP"
      },
      "source": [
        "# plot scatterplots of numeric variables against the target variable\n",
        "\n",
        "numerics_X = trainingSample[['DISTANCE', 'NO_SEATS', 'annual_departure_count', 'airline_count', \n",
        "                     'annual_number_of_flights_btwn', 'ACTIVE_AIRCRAFT_CNT_2018', 'ANNUAL_FLT_CNT_2018', \n",
        "                     'ANNUAL_AIR_MILES_2018']]\n",
        "\n",
        "numerics_y = trainingSample[\"DEP_DELAY\"]\n",
        "\n",
        "fig, axes = plt.subplots(4,2, figsize=(20,10))\n",
        "\n",
        "for i, ax in enumerate(axes.ravel()):\n",
        "    ax.plot(numerics_X.iloc[:,i], numerics_y, 'o', alpha=.5)\n",
        "    ax.set_title(\"{}: {}\".format(i, numerics_X.columns[i]), weight='bold', size=20)\n",
        "    ax.set_ylabel(\"Target\", weight='bold')\n",
        "    \n",
        "fig.tight_layout(pad=3.0)\n",
        "\n",
        "plt.show()"
      ],
      "id": "V7jpLk42ZecP",
      "execution_count": null,
      "outputs": []
    },
    {
      "cell_type": "code",
      "metadata": {
        "id": "PMAWwAL0ZecQ"
      },
      "source": [
        "print(\"RIGHT-SKEWED\")\n",
        "\n",
        "# Plot a histogram of different variable distributions\n",
        "trainingSample[\"DISTANCE\"].hist(bins='auto')\n",
        "plt.title(\"Distribution of Variable\")\n",
        "plt.xlabel(\"variable value\")\n",
        "plt.ylabel(\"count\")\n",
        "print(\"\")"
      ],
      "id": "PMAWwAL0ZecQ",
      "execution_count": null,
      "outputs": []
    },
    {
      "cell_type": "code",
      "metadata": {
        "id": "7p5goktkZecQ"
      },
      "source": [
        "np.log(trainingSample[\"DISTANCE\"]).hist(bins='auto')\n",
        "plt.title(\"Distribution of Variable\")\n",
        "plt.xlabel(\"variable value\")\n",
        "plt.ylabel(\"count\")\n",
        "print(\"\")"
      ],
      "id": "7p5goktkZecQ",
      "execution_count": null,
      "outputs": []
    },
    {
      "cell_type": "code",
      "metadata": {
        "id": "BnUCCMcTZecQ"
      },
      "source": [
        "trainingSample[\"NO_SEATS\"].hist(bins='auto')\n",
        "plt.title(\"Distribution of Variable\")\n",
        "plt.xlabel(\"variable value\")\n",
        "plt.ylabel(\"count\")\n",
        "print(\"\")"
      ],
      "id": "BnUCCMcTZecQ",
      "execution_count": null,
      "outputs": []
    },
    {
      "cell_type": "code",
      "metadata": {
        "id": "nyGbucsUZecR"
      },
      "source": [
        "np.log(trainingSample[\"NO_SEATS\"]+1).hist(bins='auto')\n",
        "plt.title(\"Distribution of Variable\")\n",
        "plt.xlabel(\"variable value\")\n",
        "plt.ylabel(\"count\")\n",
        "print(\"\")"
      ],
      "id": "nyGbucsUZecR",
      "execution_count": null,
      "outputs": []
    },
    {
      "cell_type": "code",
      "metadata": {
        "id": "Cem2pX6cZecS"
      },
      "source": [
        "trainingSample[\"annual_departure_count\"].hist(bins='auto')\n",
        "plt.title(\"Distribution of Variable\")\n",
        "plt.xlabel(\"variable value\")\n",
        "plt.ylabel(\"count\")\n",
        "print(\"\")"
      ],
      "id": "Cem2pX6cZecS",
      "execution_count": null,
      "outputs": []
    },
    {
      "cell_type": "code",
      "metadata": {
        "id": "vqljfuCyZecT"
      },
      "source": [
        "trainingSample[\"airline_count\"].hist(bins='auto')\n",
        "plt.title(\"Distribution of Variable\")\n",
        "plt.xlabel(\"variable value\")\n",
        "plt.ylabel(\"count\")\n",
        "print(\"\")"
      ],
      "id": "vqljfuCyZecT",
      "execution_count": null,
      "outputs": []
    },
    {
      "cell_type": "code",
      "metadata": {
        "id": "IEbIRTJ4ZecU"
      },
      "source": [
        "print(\"RIGHT-SKEWED\")\n",
        "\n",
        "trainingSample[\"annual_number_of_flights_btwn\"].hist(bins='auto')\n",
        "plt.title(\"Distribution of Variable\")\n",
        "plt.xlabel(\"variable value\")\n",
        "plt.ylabel(\"count\")\n",
        "print(\"\")"
      ],
      "id": "IEbIRTJ4ZecU",
      "execution_count": null,
      "outputs": []
    },
    {
      "cell_type": "code",
      "metadata": {
        "id": "Tn2kevGQZecU"
      },
      "source": [
        "np.log(trainingSample[\"annual_number_of_flights_btwn\"]).hist(bins='auto')\n",
        "plt.title(\"Distribution of Variable\")\n",
        "plt.xlabel(\"variable value\")\n",
        "plt.ylabel(\"count\")\n",
        "print(\"\")"
      ],
      "id": "Tn2kevGQZecU",
      "execution_count": null,
      "outputs": []
    },
    {
      "cell_type": "code",
      "metadata": {
        "id": "ZDKwoqfzZecV"
      },
      "source": [
        "trainingSample[\"ACTIVE_AIRCRAFT_CNT_2018\"].hist(bins='auto')\n",
        "plt.title(\"Distribution of Variable\")\n",
        "plt.xlabel(\"variable value\")\n",
        "plt.ylabel(\"count\")\n",
        "print(\"\")"
      ],
      "id": "ZDKwoqfzZecV",
      "execution_count": null,
      "outputs": []
    },
    {
      "cell_type": "code",
      "metadata": {
        "id": "sDJjD0gJZecW"
      },
      "source": [
        "trainingSample[\"ANNUAL_FLT_CNT_2018\"].hist(bins='auto')\n",
        "plt.title(\"Distribution of Variable\")\n",
        "plt.xlabel(\"variable value\")\n",
        "plt.ylabel(\"count\")\n",
        "print(\"\")"
      ],
      "id": "sDJjD0gJZecW",
      "execution_count": null,
      "outputs": []
    },
    {
      "cell_type": "code",
      "metadata": {
        "id": "QQyYe_UXZecX"
      },
      "source": [
        "np.log(trainingSample[\"ANNUAL_FLT_CNT_2018\"]).hist(bins='auto')\n",
        "plt.title(\"Distribution of Variable\")\n",
        "plt.xlabel(\"variable value\")\n",
        "plt.ylabel(\"count\")\n",
        "print(\"\")"
      ],
      "id": "QQyYe_UXZecX",
      "execution_count": null,
      "outputs": []
    },
    {
      "cell_type": "code",
      "metadata": {
        "id": "mA7IRln-ZecY"
      },
      "source": [
        "trainingSample[\"ANNUAL_AIR_MILES_2018\"].hist(bins='auto')\n",
        "plt.title(\"Distribution of Variable\")\n",
        "plt.xlabel(\"variable value\")\n",
        "plt.ylabel(\"count\")\n",
        "print(\"\")"
      ],
      "id": "mA7IRln-ZecY",
      "execution_count": null,
      "outputs": []
    },
    {
      "cell_type": "code",
      "metadata": {
        "id": "qgWt22ORZecZ"
      },
      "source": [
        "np.log(trainingSample[\"ANNUAL_AIR_MILES_2018\"]).hist(bins='auto')\n",
        "plt.title(\"Distribution of Variable\")\n",
        "plt.xlabel(\"variable value\")\n",
        "plt.ylabel(\"count\")\n",
        "print(\"\")"
      ],
      "id": "qgWt22ORZecZ",
      "execution_count": null,
      "outputs": []
    },
    {
      "cell_type": "code",
      "metadata": {
        "id": "nnL0xuGeZecZ"
      },
      "source": [
        ""
      ],
      "id": "nnL0xuGeZecZ",
      "execution_count": null,
      "outputs": []
    },
    {
      "cell_type": "code",
      "metadata": {
        "id": "3XqonjGlZeca"
      },
      "source": [
        ""
      ],
      "id": "3XqonjGlZeca",
      "execution_count": null,
      "outputs": []
    },
    {
      "cell_type": "code",
      "metadata": {
        "id": "LHZNqPo7Zeca"
      },
      "source": [
        ""
      ],
      "id": "LHZNqPo7Zeca",
      "execution_count": null,
      "outputs": []
    },
    {
      "cell_type": "code",
      "metadata": {
        "id": "RiQdn29eZecb"
      },
      "source": [
        ""
      ],
      "id": "RiQdn29eZecb",
      "execution_count": null,
      "outputs": []
    },
    {
      "cell_type": "code",
      "metadata": {
        "id": "G3U2DapuZecb"
      },
      "source": [
        ""
      ],
      "id": "G3U2DapuZecb",
      "execution_count": null,
      "outputs": []
    },
    {
      "cell_type": "markdown",
      "metadata": {
        "id": "9xHl9OjjZecc"
      },
      "source": [
        "#### Categorical Predictor Exploration"
      ],
      "id": "9xHl9OjjZecc"
    },
    {
      "cell_type": "code",
      "metadata": {
        "id": "qTB3_uCeZecc"
      },
      "source": [
        "# How many rows remain if we only keep rows where ENGREF_MATCHES==True? \n",
        "print(basecopy[basecopy.ENGREF_MATCHES==True].shape)\n",
        "print(basecopy[basecopy.ENGREF_MATCHES==False].shape)\n",
        "print(basecopy.shape[0])\n",
        "print(basecopy[basecopy.ENGREF_MATCHES==True].shape[0] + basecopy[basecopy.ENGREF_MATCHES==False].shape[0])"
      ],
      "id": "qTB3_uCeZecc",
      "execution_count": null,
      "outputs": []
    },
    {
      "cell_type": "markdown",
      "metadata": {
        "id": "W9Uits8cZecd"
      },
      "source": [
        "#### Use crosstab frequency tables to see if categories have higher than avg delay percentage"
      ],
      "id": "W9Uits8cZecd"
    },
    {
      "cell_type": "code",
      "metadata": {
        "id": "XANOeKt2Zecd"
      },
      "source": [
        "print(\"VARIABLE: NO_ENG\")\n",
        "print(\"________________\")\n",
        "print(\"\")\n",
        "print(\"Value Counts:\")\n",
        "print(training.NO_ENG.value_counts())\n",
        "print(\"\")\n",
        "\n",
        "cxtab = pd.crosstab(training.NO_ENG, training.DEP_DELAY_GE30, \n",
        "                               margins=True, margins_name=\"Total\", normalize='index')\n",
        "\n",
        "print(\"Crosstab Freqs:\")\n",
        "print(cxtab.sort_values(by=1, ascending=False))\n",
        "\n",
        "# CONCLUSION: This variable probably not valuable."
      ],
      "id": "XANOeKt2Zecd",
      "execution_count": null,
      "outputs": []
    },
    {
      "cell_type": "code",
      "metadata": {
        "id": "CVgHlsOAZecd"
      },
      "source": [
        "print(\"VARIABLE: QUARTER\")\n",
        "print(\"________________\")\n",
        "print(\"\")\n",
        "print(\"Value Counts:\")\n",
        "print(training.QUARTER.value_counts())\n",
        "print(\"\")\n",
        "\n",
        "cxtab = pd.crosstab(training.QUARTER, training.DEP_DELAY_GE30, \n",
        "                               margins=True, margins_name=\"Total\", normalize='index')\n",
        "\n",
        "print(\"Crosstab Freqs:\")\n",
        "print(cxtab.sort_values(by=1, ascending=False))\n",
        "\n",
        "# CONCLUSION: Variable not very informative"
      ],
      "id": "CVgHlsOAZecd",
      "execution_count": null,
      "outputs": []
    },
    {
      "cell_type": "markdown",
      "metadata": {
        "id": "6VQuHxOrZece"
      },
      "source": [
        "###  <span style='color:blue'> * Potentially Useful Column Found: MONTH * </span>"
      ],
      "id": "6VQuHxOrZece"
    },
    {
      "cell_type": "code",
      "metadata": {
        "id": "L00qrvkPZece"
      },
      "source": [
        "print(\"VARIABLE: MONTH\")\n",
        "print(\"________________\")\n",
        "print(\"\")\n",
        "print(\"Value Counts:\")\n",
        "print(training.MONTH.value_counts())\n",
        "print(\"\")\n",
        "\n",
        "cxtab = pd.crosstab(training.MONTH, training.DEP_DELAY_GE30, \n",
        "                               margins=True, margins_name=\"Total\", normalize='index')\n",
        "\n",
        "print(\"Crosstab Freqs:\")\n",
        "print(cxtab.sort_values(by=1, ascending=False))\n",
        "\n",
        "# CONCLUSION: Use this variable. Months 2,6,7 are higher than avg and 9,10,11 are lower than avg"
      ],
      "id": "L00qrvkPZece",
      "execution_count": null,
      "outputs": []
    },
    {
      "cell_type": "code",
      "metadata": {
        "id": "6ErrSL68Zecf"
      },
      "source": [
        "print(\"VARIABLE: DAY_OF_MONTH\")\n",
        "print(\"________________\")\n",
        "# print(\"\")\n",
        "# print(\"Value Counts:\")\n",
        "# print(training.DAY_OF_MONTH.value_counts())\n",
        "print(\"\")\n",
        "\n",
        "cxtab = pd.crosstab(training.DAY_OF_MONTH, training.DEP_DELAY_GE30, \n",
        "                               margins=True, margins_name=\"Total\", normalize='index')\n",
        "\n",
        "print(\"Crosstab Freqs:\")\n",
        "print(cxtab.sort_values(by=1, ascending=False))\n",
        "\n",
        "# CONCLUSION: I was hoping to see some pattern like the end of the month is higher delays or something, but none exits."
      ],
      "id": "6ErrSL68Zecf",
      "execution_count": null,
      "outputs": []
    },
    {
      "cell_type": "markdown",
      "metadata": {
        "id": "7u1ybYc9Zecf"
      },
      "source": [
        "###  <span style='color:blue'> * Potentially Useful Column Found: DAY_OF_WEEK * </span>"
      ],
      "id": "7u1ybYc9Zecf"
    },
    {
      "cell_type": "code",
      "metadata": {
        "id": "S69xyb6OZecg"
      },
      "source": [
        "# NOTE: 1 is Monday, 7 is Sunday\n",
        "print(\"VARIABLE: DAY_OF_WEEK\")\n",
        "print(\"________________\")\n",
        "print(\"\")\n",
        "print(\"Value Counts:\")\n",
        "print(training.DAY_OF_WEEK.value_counts())\n",
        "print(\"\")\n",
        "\n",
        "\n",
        "print(\"Crosstab Freqs:\")\n",
        "cxtab = pd.crosstab(training.DAY_OF_WEEK, training.DEP_DELAY_GE30, \n",
        "                               margins=True, margins_name=\"Total\", normalize='index')\n",
        "\n",
        "print(cxtab.sort_values(by=1, ascending=False))\n",
        "\n",
        "# CONCLUSION: Mondays, Thursdays, and Fridays have the most airtraffic by counts, and have the highest delay percents\n",
        "#             This can be used as a proxy for how busy an airport might be on a given day"
      ],
      "id": "S69xyb6OZecg",
      "execution_count": null,
      "outputs": []
    },
    {
      "cell_type": "markdown",
      "metadata": {
        "id": "x2NW5uRcZecg"
      },
      "source": [
        "###  <span style='color:blue'> * Potentially Useful Column Found: OP_CARRIER * </span>"
      ],
      "id": "x2NW5uRcZecg"
    },
    {
      "cell_type": "code",
      "metadata": {
        "id": "-4ub2I97Zech"
      },
      "source": [
        "print(\"VARIABLE: OP_CARRIER\")\n",
        "print(\"________________\")\n",
        "print(\"\")\n",
        "print(\"Value Counts:\")\n",
        "print(training.OP_CARRIER.value_counts())\n",
        "print(\"\")\n",
        "\n",
        "\n",
        "print(\"Crosstab Freqs:\")\n",
        "cxtab = pd.crosstab(training.OP_CARRIER, training.DEP_DELAY_GE30, \n",
        "                               margins=True, margins_name=\"Total\", normalize='index')\n",
        "\n",
        "print(cxtab.sort_values(by=1, ascending=False))\n",
        "\n",
        "# CONCLUSION: There are some carriers with much higher and much lower than avg delay percentages. Likely useful column.\n",
        "#             Will likely need to combine some categories to reduce dimensionality."
      ],
      "id": "-4ub2I97Zech",
      "execution_count": null,
      "outputs": []
    },
    {
      "cell_type": "code",
      "metadata": {
        "id": "-WmpK2PXZech"
      },
      "source": [
        "# Get the avg delay for each airline\n",
        "carrier_avg_delays = basecopy.loc[basecopy.DEP_DELAY>=15, ['OP_CARRIER',\n",
        "                                                          'DEP_DELAY']].groupby(by='OP_CARRIER', \n",
        "                                                                                as_index=False).mean().rename(columns={'DEP_DELAY':'AVG_DELAY'})\n",
        "\n",
        "\n",
        "carrier_pct_delayed = basecopy[['OP_CARRIER', \n",
        "                                'DEP_DELAY_GE15', \n",
        "                                'DEP_DELAY_GE60', \n",
        "                                'MONTH']].groupby(by='OP_CARRIER', \n",
        "                                                  as_index=False).agg({'DEP_DELAY_GE15':'sum', \n",
        "                                                                       'DEP_DELAY_GE60':'sum',\n",
        "                                                                       'MONTH':'count'}).rename(columns={'MONTH':'TOTAL_FLIGHTS'})\n",
        "\n",
        "\n",
        "# Get the % of flights delays for each airline (as well as number of flights and % of flights delayed >=60)\n",
        "carrier_pct_delayed['PCT_DELAYED']=100*carrier_pct_delayed.DEP_DELAY_GE15/carrier_pct_delayed.TOTAL_FLIGHTS\n",
        "carrier_pct_delayed['PCT_GE60']=100*carrier_pct_delayed.DEP_DELAY_GE60/carrier_pct_delayed.TOTAL_FLIGHTS\n",
        "carrier_pct_delayed = carrier_pct_delayed[['OP_CARRIER', 'PCT_DELAYED', 'PCT_GE60', 'TOTAL_FLIGHTS']]\n",
        "\n",
        "\n",
        "# Merge the datasets (and bring in the airline name to replace the code)\n",
        "carrier_stats = carrier_avg_delays.merge(carrier_pct_delayed).merge(airline_codes).sort_values(by=['TOTAL_FLIGHTS'])\n",
        "carrier_stats = carrier_avg_delays.merge(carrier_pct_delayed).merge(airline_codes)\n",
        "carrier_stats = carrier_stats.loc[carrier_stats.TOTAL_FLIGHTS>7000].reset_index().drop('index', axis=1)\n",
        "\n",
        "carrier_stats['AIRLINE'] = carrier_stats.AIRLINE.str.split().str.get(0)\n",
        "carrier_stats.loc[carrier_stats.AIRLINE=='Trans', 'AIRLINE'] = 'Trans States'\n",
        "carrier_stats.loc[carrier_stats.AIRLINE=='Air', 'AIRLINE'] = 'Air WI'\n",
        "carrier_stats.loc[carrier_stats.AIRLINE=='Allegiant', 'AIRLINE'] = 'Allgnt'\n",
        "print(carrier_stats)"
      ],
      "id": "-WmpK2PXZech",
      "execution_count": null,
      "outputs": []
    },
    {
      "cell_type": "code",
      "metadata": {
        "id": "B4Tw6ppEZeci"
      },
      "source": [
        "\n",
        "# Plot the airlines to see which ones had the worst/best delay record\n",
        "fig, ax = plt.subplots(figsize=(20,12))\n",
        "ax.scatter(carrier_stats['PCT_DELAYED'], carrier_stats['AVG_DELAY'], \n",
        "           alpha=0.7, marker=\",\", s=carrier_stats['TOTAL_FLIGHTS']/200)\n",
        "plt.xticks(fontsize=13)\n",
        "plt.yticks(fontsize=13)\n",
        "plt.title('2019 Delays by Airline', weight='semibold', size=25)\n",
        "plt.xlabel('% of Flights Delayed', weight='medium', size=20)\n",
        "plt.ylabel('Avg Delay (mins)', weight='medium', size=20)\n",
        "for i, label in enumerate(carrier_stats['AIRLINE']):\n",
        "    ax.text(carrier_stats['PCT_DELAYED'][i]-0.3, carrier_stats['AVG_DELAY'][i]+.8, label,\n",
        "           weight='semibold', size=15)\n",
        "ax.text(8.7, 96, 'Square size denotes ', size=15, weight='bold', color='#1f77b4')\n",
        "ax.text(8.9, 94, 'number of flights ', size=15, weight='bold', color='#1f77b4')\n",
        "plt.show()\n",
        "\n",
        "\n",
        "# plt.figure(figsize=(20,10))\n",
        "# plt.scatter(carrier_stats['PCT_DELAYED'],carrier_stats['AVG_DELAY'],\n",
        "#             marker=\",\", s=carrier_stats['TOTAL_FLIGHTS']/200)\n",
        "# plt.xlabel(\"X\")\n",
        "# plt.ylabel(\"Y\")\n",
        "# plt.title(\"Scatter Plot with annotations\",fontsize=15)\n",
        "# for i, label in enumerate(carrier_stats['AIRLINE']):\n",
        "#     plt.annotate(label, (carrier_stats['PCT_DELAYED'][i], carrier_stats['AVG_DELAY'][i]))\n",
        "\n",
        "# plt.show()"
      ],
      "id": "B4Tw6ppEZeci",
      "execution_count": null,
      "outputs": []
    },
    {
      "cell_type": "code",
      "metadata": {
        "id": "OD1U-RMMZeci"
      },
      "source": [
        "# Get the avg delay for each airport\n",
        "avg_delays = basecopy.loc[basecopy.DEP_DELAY>=15, ['ORIGIN',\n",
        "                                                          'DEP_DELAY']].groupby(by='ORIGIN', \n",
        "                                                                                as_index=False).mean().rename(columns={'DEP_DELAY':'AVG_DELAY'})\n",
        "\n",
        "\n",
        "pct_delayed = basecopy[['ORIGIN', \n",
        "                                'DEP_DELAY_GE15', \n",
        "                                'DEP_DELAY_GE60', \n",
        "                                'MONTH']].groupby(by='ORIGIN', \n",
        "                                                  as_index=False).agg({'DEP_DELAY_GE15':'sum', \n",
        "                                                                       'DEP_DELAY_GE60':'sum',\n",
        "                                                                       'MONTH':'count'}).rename(columns={'MONTH':'TOTAL_FLIGHTS'})\n",
        "\n",
        "# print(pct_delayed.sort_values(by=['TOTAL_FLIGHTS']))\n",
        "\n",
        "# Get the % of flights delays for each airline (as well as number of flights and % of flights delayed >=60)\n",
        "pct_delayed['PCT_DELAYED']=100*pct_delayed.DEP_DELAY_GE15/pct_delayed.TOTAL_FLIGHTS\n",
        "pct_delayed['PCT_GE60']=100*pct_delayed.DEP_DELAY_GE60/pct_delayed.TOTAL_FLIGHTS\n",
        "pct_delayed = pct_delayed[['ORIGIN', 'PCT_DELAYED', 'PCT_GE60', 'TOTAL_FLIGHTS']]\n",
        "\n",
        "\n",
        "# # Merge the datasets (and bring in the airline name to replace the code)\n",
        "colm_stats = avg_delays.merge(pct_delayed).sort_values(by=['TOTAL_FLIGHTS'])\n",
        "colm_stats = avg_delays.merge(pct_delayed)\n",
        "colm_stats = colm_stats.loc[colm_stats.TOTAL_FLIGHTS>7000].reset_index().drop('index', axis=1)\n",
        "\n",
        "print(colm_stats)\n",
        "\n",
        "\n",
        "\n",
        "# Plot the airlines to see which ones had the worst/best delay record\n",
        "fig, ax = plt.subplots(figsize=(20,12))\n",
        "ax.scatter(colm_stats['PCT_DELAYED'], colm_stats['AVG_DELAY'], \n",
        "           alpha=0.7, marker=\"p\", s=colm_stats['TOTAL_FLIGHTS']/100, color='#029386')\n",
        "plt.xticks(fontsize=13)\n",
        "plt.yticks(fontsize=13)\n",
        "plt.title('2019 Delays by Airport', weight='semibold', size=25)\n",
        "plt.xlabel('% of Flights Delayed', weight='medium', size=20)\n",
        "plt.ylabel('Avg Delay (mins)', weight='medium', size=20)\n",
        "for i, label in enumerate(colm_stats['ORIGIN']):\n",
        "    ax.text(colm_stats['PCT_DELAYED'][i]-0.2, colm_stats['AVG_DELAY'][i]+.8, label,\n",
        "           weight='semibold', size=15)\n",
        "ax.text(23, 94, 'Marker size denotes ', size=15, weight='bold', color='#029386')\n",
        "ax.text(23.2, 92, 'number of flights ', size=15, weight='bold', color='#029386')\n",
        "plt.show()"
      ],
      "id": "OD1U-RMMZeci",
      "execution_count": null,
      "outputs": []
    },
    {
      "cell_type": "code",
      "metadata": {
        "id": "Bb2svs5eZecj"
      },
      "source": [
        "print(\"VARIABLE: DISTANCE_GROUP\")\n",
        "print(\"________________\")\n",
        "print(\"\")\n",
        "print(\"Value Counts:\")\n",
        "print(training.DISTANCE_GROUP.value_counts())\n",
        "print(\"\")\n",
        "\n",
        "\n",
        "print(\"Crosstab Freqs:\")\n",
        "cxtab = pd.crosstab(training.DISTANCE_GROUP, training.DEP_DELAY_GE30, \n",
        "                               margins=True, margins_name=\"Total\", normalize='index')\n",
        "\n",
        "print(cxtab.sort_values(by=1, ascending=False))\n",
        "\n",
        "# CONCLUSION: The delay % for each group is close to the avg, so no real value here"
      ],
      "id": "Bb2svs5eZecj",
      "execution_count": null,
      "outputs": []
    },
    {
      "cell_type": "markdown",
      "metadata": {
        "id": "9xNVrkWyZeck"
      },
      "source": [
        "###  <span style='color:blue'> * Potentially Useful Column Found: TYPE_AIRCRAFT * </span>"
      ],
      "id": "9xNVrkWyZeck"
    },
    {
      "cell_type": "code",
      "metadata": {
        "id": "l0gsceygZeck"
      },
      "source": [
        "print(\"VARIABLE: TYPE_AIRCRAFT\")\n",
        "print(\"________________\")\n",
        "print(\"\")\n",
        "print(\"Value Counts:\")\n",
        "print(training.TYPE_AIRCRAFT.value_counts())\n",
        "print(\"\")\n",
        "\n",
        "\n",
        "print(\"Crosstab Freqs:\")\n",
        "cxtab = pd.crosstab(training.TYPE_AIRCRAFT, training.DEP_DELAY_GE30, \n",
        "                               margins=True, margins_name=\"Total\", normalize='index')\n",
        "\n",
        "print(cxtab.sort_values(by=1, ascending=False))\n",
        "\n",
        "# CONCLUSION: There might be some benefit. Fixed wing single engine has lower delay %. \n",
        "#             But it might be a proxy for size of airport"
      ],
      "id": "l0gsceygZeck",
      "execution_count": null,
      "outputs": []
    },
    {
      "cell_type": "markdown",
      "metadata": {
        "id": "d_gZohk6Zecl"
      },
      "source": [
        "###  <span style='color:blue'> * Potentially Useful Column Found: TYPE_ENGINE * </span>"
      ],
      "id": "d_gZohk6Zecl"
    },
    {
      "cell_type": "code",
      "metadata": {
        "id": "ovnEmS_5Zecm"
      },
      "source": [
        "print(\"VARIABLE: TYPE_ENGINE\")\n",
        "print(\"________________\")\n",
        "print(\"\")\n",
        "print(\"Value Counts:\")\n",
        "print(training.TYPE_ENGINE.value_counts())\n",
        "print(\"\")\n",
        "\n",
        "\n",
        "print(\"Crosstab Freqs:\")\n",
        "cxtab = pd.crosstab(training.TYPE_ENGINE, training.DEP_DELAY_GE30, \n",
        "                               margins=True, margins_name=\"Total\", normalize='index')\n",
        "\n",
        "print(cxtab.sort_values(by=1, ascending=False))\n",
        "\n",
        "# CONCLUSION: Turbo-prop has a much lower delay %"
      ],
      "id": "ovnEmS_5Zecm",
      "execution_count": null,
      "outputs": []
    },
    {
      "cell_type": "markdown",
      "metadata": {
        "id": "ao_B66lAZecn"
      },
      "source": [
        "###  <span style='color:blue'> * Potentially Useful Column Found: NO_ENG * </span>"
      ],
      "id": "ao_B66lAZecn"
    },
    {
      "cell_type": "code",
      "metadata": {
        "id": "Kc_5PE5XZecn"
      },
      "source": [
        "print(\"VARIABLE: NO_ENG\")\n",
        "print(\"________________\")\n",
        "print(\"\")\n",
        "print(\"Value Counts:\")\n",
        "print(training.NO_ENG.value_counts())\n",
        "print(\"\")\n",
        "\n",
        "\n",
        "print(\"Crosstab Freqs:\")\n",
        "cxtab = pd.crosstab(training.NO_ENG, training.DEP_DELAY_GE30, \n",
        "                               margins=True, margins_name=\"Total\", normalize='index')\n",
        "\n",
        "print(cxtab.sort_values(by=1, ascending=False))\n",
        "\n",
        "# CONCLUSION: Might be useful. Single-Engine seems to have a lower delay %"
      ],
      "id": "Kc_5PE5XZecn",
      "execution_count": null,
      "outputs": []
    },
    {
      "cell_type": "markdown",
      "metadata": {
        "id": "3XQmJPUaZeco"
      },
      "source": [
        "###  <span style='color:blue'> * Potentially Useful Column Found: AC_WEIGHT * </span>"
      ],
      "id": "3XQmJPUaZeco"
    },
    {
      "cell_type": "code",
      "metadata": {
        "id": "anpZ7-FwZeco"
      },
      "source": [
        "print(\"VARIABLE: AC_WEIGHT\")\n",
        "print(\"________________\")\n",
        "print(\"\")\n",
        "print(\"Value Counts:\")\n",
        "print(training.AC_WEIGHT.value_counts())\n",
        "print(\"\")\n",
        "\n",
        "\n",
        "print(\"Crosstab Freqs:\")\n",
        "cxtab = pd.crosstab(training.AC_WEIGHT, training.DEP_DELAY_GE30, \n",
        "                               margins=True, margins_name=\"Total\", normalize='index')\n",
        "\n",
        "print(cxtab.sort_values(by=1, ascending=False))\n",
        "\n",
        "# CONCLUSION: Potentially useful. Look at class 4."
      ],
      "id": "anpZ7-FwZeco",
      "execution_count": null,
      "outputs": []
    },
    {
      "cell_type": "markdown",
      "metadata": {
        "id": "uZr-WPJCZecp"
      },
      "source": [
        "###  <span style='color:blue'> * Potentially Useful Column Found: MFR_Engine * </span>"
      ],
      "id": "uZr-WPJCZecp"
    },
    {
      "cell_type": "code",
      "metadata": {
        "id": "Vo_qI032Zecp"
      },
      "source": [
        "print(\"VARIABLE: MFR_Engine\")\n",
        "print(\"________________\")\n",
        "print(\"\")\n",
        "print(\"Value Counts:\")\n",
        "print(training.MFR_Engine.value_counts())\n",
        "print(\"\")\n",
        "\n",
        "\n",
        "print(\"Crosstab Freqs:\")\n",
        "cxtab = pd.crosstab(training.MFR_Engine, training.DEP_DELAY_GE30, \n",
        "                               margins=True, margins_name=\"Total\", normalize='index')\n",
        "\n",
        "print(cxtab.sort_values(by=1, ascending=False))"
      ],
      "id": "Vo_qI032Zecp",
      "execution_count": null,
      "outputs": []
    },
    {
      "cell_type": "markdown",
      "metadata": {
        "id": "yCf9xqSFZecq"
      },
      "source": [
        "###  <span style='color:blue'> * Potentially Useful Column Found: MODEL_GROUP_Aircraft * </span>"
      ],
      "id": "yCf9xqSFZecq"
    },
    {
      "cell_type": "code",
      "metadata": {
        "id": "4DwHVsgrZecq"
      },
      "source": [
        "print(\"VARIABLE: MODEL_GROUP_Aircraft\")\n",
        "print(\"________________\")\n",
        "print(\"\")\n",
        "print(\"Value Counts:\")\n",
        "print(training.MODEL_GROUP_Aircraft.value_counts().head(25))\n",
        "print(\"\")\n",
        "\n",
        "\n",
        "print(\"Crosstab Freqs:\")\n",
        "cxtab = pd.crosstab(training.MODEL_GROUP_Aircraft, training.DEP_DELAY_GE30, \n",
        "                               margins=True, margins_name=\"Total\", normalize='index')\n",
        "\n",
        "print(cxtab.sort_values(by=1, ascending=False))"
      ],
      "id": "4DwHVsgrZecq",
      "execution_count": null,
      "outputs": []
    },
    {
      "cell_type": "code",
      "metadata": {
        "id": "N_Fqte4tZecr"
      },
      "source": [
        ""
      ],
      "id": "N_Fqte4tZecr",
      "execution_count": null,
      "outputs": []
    },
    {
      "cell_type": "code",
      "metadata": {
        "id": "wQ5QrIyRZecr"
      },
      "source": [
        ""
      ],
      "id": "wQ5QrIyRZecr",
      "execution_count": null,
      "outputs": []
    },
    {
      "cell_type": "code",
      "metadata": {
        "id": "GhqQehJfZecr"
      },
      "source": [
        ""
      ],
      "id": "GhqQehJfZecr",
      "execution_count": null,
      "outputs": []
    },
    {
      "cell_type": "code",
      "metadata": {
        "id": "eUs10ma6Zecs"
      },
      "source": [
        ""
      ],
      "id": "eUs10ma6Zecs",
      "execution_count": null,
      "outputs": []
    },
    {
      "cell_type": "markdown",
      "metadata": {
        "id": "yugfv_fRZecs"
      },
      "source": [
        "________________________________________________________________________________"
      ],
      "id": "yugfv_fRZecs"
    },
    {
      "cell_type": "markdown",
      "metadata": {
        "id": "PJgCbL17Zecs"
      },
      "source": [
        "# III. Further Preprocessing and Transformations"
      ],
      "id": "PJgCbL17Zecs"
    },
    {
      "cell_type": "code",
      "metadata": {
        "id": "8nKzx-TCZect"
      },
      "source": [
        "#display.Image(os.path.join(a_path, a_folder, \"IMG_Transformation.png\")) # https://drive.google.com/file/d/1CTYX_kFz59pxKwGESM5LuSeC8B7DRAD2/view?usp=sharing"
      ],
      "id": "8nKzx-TCZect",
      "execution_count": null,
      "outputs": []
    },
    {
      "cell_type": "markdown",
      "metadata": {
        "id": "nNYQ4Yp3kUhr"
      },
      "source": [
        "![picture](https://drive.google.com/uc?id=1CTYX_kFz59pxKwGESM5LuSeC8B7DRAD2)"
      ],
      "id": "nNYQ4Yp3kUhr"
    },
    {
      "cell_type": "markdown",
      "metadata": {
        "id": "tr8xtJZcZecu"
      },
      "source": [
        "#### Variable: ORIGIN ----> Becomes: ORIGIN_REDUCED"
      ],
      "id": "tr8xtJZcZecu"
    },
    {
      "cell_type": "code",
      "metadata": {
        "id": "nWbCZyepZecu"
      },
      "source": [
        "# Which origin airports have above avg and below avg number of long delays (avg over all data is 12.2%)\n",
        "large_ports = training[training.annual_departure_count>130000] # 130000 is the median annual_departure_count\n",
        "print(large_ports.shape[0])\n",
        "print(\"\")\n",
        "\n",
        "cxtab = pd.crosstab(large_ports.ORIGIN, large_ports.DEP_DELAY_GE30, \n",
        "                               margins=True, margins_name=\"Total\", normalize='index')\n",
        "\n",
        "print(cxtab[cxtab[1]>.122].sort_values(by=1, ascending=False).head(15))\n",
        "\n",
        "print(cxtab[cxtab[1]<.122].sort_values(by=1, ascending=True).head(15))"
      ],
      "id": "nWbCZyepZecu",
      "execution_count": null,
      "outputs": []
    },
    {
      "cell_type": "code",
      "metadata": {
        "id": "9_HwSTOSZecv"
      },
      "source": [
        "# Make a column that keeps those airports that have above avg long delay rates, and convert all others to \"OTHER\"\n",
        "basecopy[\"ORIGIN_REDUCED\"] = basecopy[\"ORIGIN\"]\n",
        "basecopy.loc[~(basecopy[\"ORIGIN\"].isin(['EWR', 'ORD', 'BOS', 'SFO', 'LGA', 'MCO', 'DEN', 'IAH', 'DFW', \n",
        "                                        'SEA', 'ATL', 'MSP'])), \n",
        "             \"ORIGIN_REDUCED\"] = \"OTHER\"\n",
        "\n",
        "# Confirm that it worked\n",
        "# training.loc[0:50, [\"ORIGIN\", \"ORIGIN_REDUCED\"]]\n",
        "print(basecopy.ORIGIN_REDUCED.value_counts())"
      ],
      "id": "9_HwSTOSZecv",
      "execution_count": null,
      "outputs": []
    },
    {
      "cell_type": "markdown",
      "metadata": {
        "id": "pWu_ZN71Zecv"
      },
      "source": [
        "#### Variable: OP_CARRIER  ---->  Becomes: OP_CARRIER_REDUCED"
      ],
      "id": "pWu_ZN71Zecv"
    },
    {
      "cell_type": "code",
      "metadata": {
        "id": "_qDOR_-CZecw"
      },
      "source": [
        "print(training.OP_CARRIER.value_counts())\n",
        "\n",
        "# Which OP_CARRIER have above avg and below avg number of long delays (avg over all data is 12.2%)\n",
        "cxtab = pd.crosstab(training.OP_CARRIER, training.DEP_DELAY_GE30, \n",
        "                               margins=True, margins_name=\"Total\", normalize='index')\n",
        "\n",
        "print(cxtab.sort_values(by=1, ascending=False))"
      ],
      "id": "_qDOR_-CZecw",
      "execution_count": null,
      "outputs": []
    },
    {
      "cell_type": "code",
      "metadata": {
        "id": "2jMEjluVZecx"
      },
      "source": [
        "# Make a column that keeps those carriers that have above avg long delay rates, and convert all others to \"OTHER\"\n",
        "basecopy[\"OP_CARRIER_REDUCED\"] = basecopy[\"OP_CARRIER\"]\n",
        "basecopy.loc[~(basecopy[\"OP_CARRIER\"].isin(['C5', 'KS', 'AX', 'B6', 'F9', 'EV', 'G7', 'UA', \n",
        "                                            'AS', 'EM', 'DL', 'QX', 'HA', \n",
        "                                            'WN', 'DL', 'AA', '00', 'YX', 'MQ', 'OH', '9E', 'YV', 'NK'])), \n",
        "             \"OP_CARRIER_REDUCED\"] = \"OTHER\"\n",
        "\n",
        "# Confirm that it worked\n",
        "# training.loc[0:50, [\"OP_CARRIER\", \"OP_CARRIER_REDUCED\"]]\n",
        "print(basecopy.OP_CARRIER_REDUCED.value_counts())"
      ],
      "id": "2jMEjluVZecx",
      "execution_count": null,
      "outputs": []
    },
    {
      "cell_type": "markdown",
      "metadata": {
        "id": "bl0raOLEZecx"
      },
      "source": [
        "#### Variable: ACFT_MFR_DeDup ----> Becomes: ACFT_MFR_REDUCED"
      ],
      "id": "bl0raOLEZecx"
    },
    {
      "cell_type": "code",
      "metadata": {
        "id": "YCEKMdz8Zecx"
      },
      "source": [
        "basecopy.ACFT_MFR_DeDup.value_counts()"
      ],
      "id": "YCEKMdz8Zecx",
      "execution_count": null,
      "outputs": []
    },
    {
      "cell_type": "code",
      "metadata": {
        "id": "Qch5WIaVZecy"
      },
      "source": [
        "# Make a column that keeps most frequent Aircraft Manufacturers and groups all low-count mfctrs as \"OTHER\"\n",
        "basecopy[\"ACFT_MFR_REDUCED\"] = basecopy[\"ACFT_MFR_DeDup\"]\n",
        "\n",
        "basecopy.loc[pd.isna(basecopy[\"ACFT_MFR_REDUCED\"]), \"ACFT_MFR_REDUCED\"] = \"UNKNOWN\"\n",
        "\n",
        "basecopy.loc[~(basecopy[\"ACFT_MFR_REDUCED\"].isin(['UNKNOWN', 'BOEING', 'AIRBUS', 'EMBRAER', 'BOMBARDIER INC', \n",
        "                                                'MCDONNELL DOUGLAS', 'C SERIES AIRCRAFT LTD PTNRSP', 'ALENIA',\n",
        "                                                 'PIPER', 'BELL HELICOPTER TEXTRON CANADA', 'CANADAIR', \n",
        "                                                  'AMERICAN CHAMPION AIRCRAFT', 'SAAB'])), \n",
        "             \"ACFT_MFR_REDUCED\"] = \"OTHER\"\n",
        "\n",
        "basecopy.loc[basecopy.ACFT_MFR_REDUCED==\"BOMBARDIER INC\", \"ACFT_MFR_REDUCED\"] = \"BOMBARDIER\"\n",
        "basecopy.loc[basecopy.ACFT_MFR_REDUCED==\"MCDONNELL DOUGLAS\", \"ACFT_MFR_REDUCED\"] = \"MCDONNELL\"\n",
        "basecopy.loc[basecopy.ACFT_MFR_REDUCED==\"C SERIES AIRCRAFT LTD PTNRSP\", \"ACFT_MFR_REDUCED\"] = \"CSERIES\"\n",
        "basecopy.loc[basecopy.ACFT_MFR_REDUCED==\"BELL HELICOPTER TEXTRON CANADA\", \"ACFT_MFR_REDUCED\"] = \"BELL\"\n",
        "basecopy.loc[basecopy.ACFT_MFR_REDUCED==\"AMERICAN CHAMPION AIRCRAFT\", \"ACFT_MFR_REDUCED\"] = \"CHAMPION\"\n",
        "\n",
        "# Confirm that it worked\n",
        "print(basecopy.ACFT_MFR_REDUCED.value_counts())\n",
        "# print(training.loc[~(training[\"ACFT_MFR_DeDup\"].isin(['BOEING', 'AIRBUS', 'EMBRAER', 'BOMBARDIER INC', \n",
        "#                                                 'MCDONNELL DOUGLAS', 'C SERIES AIRCRAFT LTD PTNRSP', 'ALENIA'])), \n",
        "#              \"ACFT_MFR_REDUCED\"].shape)\n",
        "# print(training[training.ACFT_MFR_REDUCED=='OTHER'].shape)\n",
        "# training.loc[0:50, [\"ACFT_MFR_DeDup\", \"ACFT_MFR_REDUCED\"]]"
      ],
      "id": "Qch5WIaVZecy",
      "execution_count": null,
      "outputs": []
    },
    {
      "cell_type": "code",
      "metadata": {
        "id": "1pPJXbLwZecz"
      },
      "source": [
        "# Get the avg delay for each ACFT_MFR_REDUCED\n",
        "avg_delays = basecopy.loc[basecopy.DEP_DELAY>=15, ['ACFT_MFR_REDUCED',\n",
        "                                                          'DEP_DELAY']].groupby(by='ACFT_MFR_REDUCED', \n",
        "                                                                                as_index=False).mean().rename(columns={'DEP_DELAY':'AVG_DELAY'})\n",
        "\n",
        "\n",
        "pct_delayed = basecopy[['ACFT_MFR_REDUCED', \n",
        "                                'DEP_DELAY_GE15', \n",
        "                                'DEP_DELAY_GE60', \n",
        "                                'MONTH']].groupby(by='ACFT_MFR_REDUCED', \n",
        "                                                  as_index=False).agg({'DEP_DELAY_GE15':'sum', \n",
        "                                                                       'DEP_DELAY_GE60':'sum',\n",
        "                                                                       'MONTH':'count'}).rename(columns={'MONTH':'TOTAL_FLIGHTS'})\n",
        "\n",
        "# print(pct_delayed.sort_values(by=['TOTAL_FLIGHTS']))\n",
        "\n",
        "# Get the % of flights delays for each airline (as well as number of flights and % of flights delayed >=60)\n",
        "pct_delayed['PCT_DELAYED']=100*pct_delayed.DEP_DELAY_GE15/pct_delayed.TOTAL_FLIGHTS\n",
        "pct_delayed['PCT_GE60']=100*pct_delayed.DEP_DELAY_GE60/pct_delayed.TOTAL_FLIGHTS\n",
        "pct_delayed = pct_delayed[['ACFT_MFR_REDUCED', 'PCT_DELAYED', 'PCT_GE60', 'TOTAL_FLIGHTS']]\n",
        "\n",
        "\n",
        "# # Merge the datasets (and bring in the airline name to replace the code)\n",
        "colm_stats = avg_delays.merge(pct_delayed).sort_values(by=['TOTAL_FLIGHTS'])\n",
        "colm_stats = avg_delays.merge(pct_delayed)\n",
        "# colm_stats = colm_stats.loc[colm_stats.TOTAL_FLIGHTS>7000].reset_index().drop('index', axis=1)\n",
        "\n",
        "print(colm_stats)\n",
        "\n",
        "\n",
        "\n",
        "# Plot the airlines to see which ones had the worst/best delay record\n",
        "fig, ax = plt.subplots(figsize=(20,12))\n",
        "ax.scatter(colm_stats['PCT_DELAYED'], colm_stats['AVG_DELAY'], \n",
        "           alpha=0.7, marker=\",\", s=colm_stats['TOTAL_FLIGHTS']/200)\n",
        "plt.xticks(fontsize=13)\n",
        "plt.yticks(fontsize=13)\n",
        "plt.title('2019 Delays by Aircraft Manufacturer', weight='semibold', size=25)\n",
        "plt.xlabel('% of Flights Delayed', weight='medium', size=20)\n",
        "plt.ylabel('Avg Delay (mins)', weight='medium', size=20)\n",
        "for i, label in enumerate(colm_stats['ACFT_MFR_REDUCED']):\n",
        "    ax.text(colm_stats['PCT_DELAYED'][i]-0.2, colm_stats['AVG_DELAY'][i]+.8, label,\n",
        "           weight='semibold', size=15)\n",
        "ax.text(8.7, 96, 'Square size denotes ', size=15, weight='bold', color='#1f77b4')\n",
        "ax.text(8.9, 94, 'number of flights ', size=15, weight='bold', color='#1f77b4')\n",
        "plt.show()"
      ],
      "id": "1pPJXbLwZecz",
      "execution_count": null,
      "outputs": []
    },
    {
      "cell_type": "markdown",
      "metadata": {
        "id": "fvihS7bcZecz"
      },
      "source": [
        "#### Variable: MFR_Engine ----> Becomes: MFR_ENGINE_REDUCED"
      ],
      "id": "fvihS7bcZecz"
    },
    {
      "cell_type": "code",
      "metadata": {
        "id": "reJiab6jZec0"
      },
      "source": [
        "print(\"MFR_Engine    Count\")\n",
        "print(training.MFR_Engine.value_counts())"
      ],
      "id": "reJiab6jZec0",
      "execution_count": null,
      "outputs": []
    },
    {
      "cell_type": "code",
      "metadata": {
        "id": "Tobr3nB7Zec1"
      },
      "source": [
        "# Make a column that keeps most frequent Engine Manufacturers and groups all low-count mfctrs as \"OTHER\"\n",
        "basecopy[\"MFR_ENGINE_REDUCED\"] = basecopy[\"MFR_Engine\"]\n",
        "\n",
        "basecopy.loc[pd.isna(basecopy[\"MFR_ENGINE_REDUCED\"]), \"MFR_ENGINE_REDUCED\"] = \"UNKNOWN\"\n",
        "\n",
        "basecopy.loc[basecopy.MFR_ENGINE_REDUCED==\"CFM INTL\", \"MFR_ENGINE_REDUCED\"] = \"CFM\"\n",
        "basecopy.loc[basecopy.MFR_ENGINE_REDUCED==\"ROLLS-ROYC\", \"MFR_ENGINE_REDUCED\"] = \"ROLLS\"\n",
        "basecopy.loc[basecopy.MFR_ENGINE_REDUCED==\"P&W\", \"MFR_ENGINE_REDUCED\"] = \"PW\"\n",
        "basecopy.loc[basecopy.MFR_ENGINE_REDUCED==\"AMA/EXPR\", \"MFR_ENGINE_REDUCED\"] = \"AMA\"\n",
        "\n",
        "basecopy.loc[~(basecopy[\"MFR_ENGINE_REDUCED\"].isin(['UNKNOWN', 'CFM', 'GE', 'IAE', 'ROLLS', 'PW', \n",
        "                                                    'ALLISON', 'AMA', 'LYCOMING'])), \n",
        "             \"MFR_ENGINE_REDUCED\"] = \"OTHER\"\n",
        "\n",
        "# Confirm that it worked\n",
        "print(basecopy.MFR_ENGINE_REDUCED.value_counts())"
      ],
      "id": "Tobr3nB7Zec1",
      "execution_count": null,
      "outputs": []
    },
    {
      "cell_type": "code",
      "metadata": {
        "id": "427BBSdHZec2"
      },
      "source": [
        "# Get the avg delay for each engine manufacturer\n",
        "avg_delays = basecopy.loc[basecopy.DEP_DELAY>=15, ['MFR_ENGINE_REDUCED',\n",
        "                                                          'DEP_DELAY']].groupby(by='MFR_ENGINE_REDUCED', \n",
        "                                                                                as_index=False).mean().rename(columns={'DEP_DELAY':'AVG_DELAY'})\n",
        "\n",
        "\n",
        "pct_delayed = basecopy[['MFR_ENGINE_REDUCED', \n",
        "                                'DEP_DELAY_GE15', \n",
        "                                'DEP_DELAY_GE60', \n",
        "                                'MONTH']].groupby(by='MFR_ENGINE_REDUCED', \n",
        "                                                  as_index=False).agg({'DEP_DELAY_GE15':'sum', \n",
        "                                                                       'DEP_DELAY_GE60':'sum',\n",
        "                                                                       'MONTH':'count'}).rename(columns={'MONTH':'TOTAL_FLIGHTS'})\n",
        "\n",
        "# print(pct_delayed.sort_values(by=['TOTAL_FLIGHTS']))\n",
        "\n",
        "# Get the % of flights delays for each airline (as well as number of flights and % of flights delayed >=60)\n",
        "pct_delayed['PCT_DELAYED']=100*pct_delayed.DEP_DELAY_GE15/pct_delayed.TOTAL_FLIGHTS\n",
        "pct_delayed['PCT_GE60']=100*pct_delayed.DEP_DELAY_GE60/pct_delayed.TOTAL_FLIGHTS\n",
        "pct_delayed = pct_delayed[['MFR_ENGINE_REDUCED', 'PCT_DELAYED', 'PCT_GE60', 'TOTAL_FLIGHTS']]\n",
        "\n",
        "\n",
        "# # Merge the datasets (and bring in the airline name to replace the code)\n",
        "colm_stats = avg_delays.merge(pct_delayed).sort_values(by=['TOTAL_FLIGHTS'])\n",
        "colm_stats = avg_delays.merge(pct_delayed)\n",
        "# colm_stats = colm_stats.loc[colm_stats.TOTAL_FLIGHTS>7000].reset_index().drop('index', axis=1)\n",
        "\n",
        "print(colm_stats)\n",
        "\n",
        "\n",
        "\n",
        "# Plot the airlines to see which ones had the worst/best delay record\n",
        "fig, ax = plt.subplots(figsize=(20,12))\n",
        "ax.scatter(colm_stats['PCT_DELAYED'], colm_stats['AVG_DELAY'], \n",
        "           alpha=0.7, marker=\",\", s=colm_stats['TOTAL_FLIGHTS']/200)\n",
        "plt.xticks(fontsize=13)\n",
        "plt.yticks(fontsize=13)\n",
        "plt.title('2019 Delays by Engine Manufacturer', weight='semibold', size=25)\n",
        "plt.xlabel('% of Flights Delayed', weight='medium', size=20)\n",
        "plt.ylabel('Avg Delay (mins)', weight='medium', size=20)\n",
        "for i, label in enumerate(colm_stats['MFR_ENGINE_REDUCED']):\n",
        "    ax.text(colm_stats['PCT_DELAYED'][i]-0.2, colm_stats['AVG_DELAY'][i]+.8, label,\n",
        "           weight='semibold', size=15)\n",
        "ax.text(8.7, 96, 'Square size denotes ', size=15, weight='bold', color='#1f77b4')\n",
        "ax.text(8.9, 94, 'number of flights ', size=15, weight='bold', color='#1f77b4')\n",
        "plt.show()"
      ],
      "id": "427BBSdHZec2",
      "execution_count": null,
      "outputs": []
    },
    {
      "cell_type": "markdown",
      "metadata": {
        "id": "JAS8FrTSZec2"
      },
      "source": [
        "#### Variable: CRS_DEP_TIME ----> Becomes: CRS_DEP_TIME_BUCKET"
      ],
      "id": "JAS8FrTSZec2"
    },
    {
      "cell_type": "code",
      "metadata": {
        "id": "txWu9fwLZec3"
      },
      "source": [
        "basecopy.loc[(basecopy.CRS_DEP_TIME>=500) & (basecopy.CRS_DEP_TIME<900), \"CRS_DEP_TIME_BUCKET\"] = \"5am-9am\"\n",
        "basecopy.loc[(basecopy.CRS_DEP_TIME>=900) & (basecopy.CRS_DEP_TIME<1300), \"CRS_DEP_TIME_BUCKET\"] = \"9am-1pm\"\n",
        "basecopy.loc[(basecopy.CRS_DEP_TIME>=1300) & (basecopy.CRS_DEP_TIME<1700), \"CRS_DEP_TIME_BUCKET\"] = \"1pm-5pm\"\n",
        "basecopy.loc[(basecopy.CRS_DEP_TIME>=1700) & (basecopy.CRS_DEP_TIME<2100), \"CRS_DEP_TIME_BUCKET\"] = \"5pm-9pm\"\n",
        "basecopy.loc[~((basecopy.CRS_DEP_TIME>=500) & (basecopy.CRS_DEP_TIME<2100)), \"CRS_DEP_TIME_BUCKET\"] = \"Redeye\"\n",
        "\n",
        "# Confirm that it worked\n",
        "print(basecopy.CRS_DEP_TIME_BUCKET.value_counts())\n",
        "# basecopy.loc[0:15, [\"CRS_DEP_TIME\", \"CRS_DEP_TIME_BUCKET\"]]\n",
        "print(\"\")\n",
        "cxtab = pd.crosstab(basecopy.CRS_DEP_TIME_BUCKET, training.DEP_DELAY_GE30, \n",
        "                               margins=True, margins_name=\"Total\", normalize='index')\n",
        "print(cxtab.sort_values(by=1, ascending=False))"
      ],
      "id": "txWu9fwLZec3",
      "execution_count": null,
      "outputs": []
    },
    {
      "cell_type": "code",
      "metadata": {
        "id": "-zWYGIzvZec3"
      },
      "source": [
        "# Get the avg delay for each time bucket\n",
        "avg_delays = basecopy.loc[basecopy.DEP_DELAY>=15, ['CRS_DEP_TIME_BUCKET',\n",
        "                                                          'DEP_DELAY']].groupby(by='CRS_DEP_TIME_BUCKET', \n",
        "                                                                                as_index=False).mean().rename(columns={'DEP_DELAY':'AVG_DELAY'})\n",
        "\n",
        "\n",
        "pct_delayed = basecopy[['CRS_DEP_TIME_BUCKET', \n",
        "                                'DEP_DELAY_GE15', \n",
        "                                'DEP_DELAY_GE60', \n",
        "                                'MONTH']].groupby(by='CRS_DEP_TIME_BUCKET', \n",
        "                                                  as_index=False).agg({'DEP_DELAY_GE15':'sum', \n",
        "                                                                       'DEP_DELAY_GE60':'sum',\n",
        "                                                                       'MONTH':'count'}).rename(columns={'MONTH':'TOTAL_FLIGHTS'})\n",
        "\n",
        "# print(pct_delayed.sort_values(by=['TOTAL_FLIGHTS']))\n",
        "\n",
        "# Get the % of flights delays for each airline (as well as number of flights and % of flights delayed >=60)\n",
        "pct_delayed['PCT_DELAYED']=100*pct_delayed.DEP_DELAY_GE15/pct_delayed.TOTAL_FLIGHTS\n",
        "pct_delayed['PCT_GE60']=100*pct_delayed.DEP_DELAY_GE60/pct_delayed.TOTAL_FLIGHTS\n",
        "pct_delayed = pct_delayed[['CRS_DEP_TIME_BUCKET', 'PCT_DELAYED', 'PCT_GE60', 'TOTAL_FLIGHTS']]\n",
        "\n",
        "\n",
        "# # Merge the datasets (and bring in the airline name to replace the code)\n",
        "colm_stats = avg_delays.merge(pct_delayed).sort_values(by=['TOTAL_FLIGHTS'])\n",
        "colm_stats = avg_delays.merge(pct_delayed)\n",
        "# colm_stats = colm_stats.loc[colm_stats.TOTAL_FLIGHTS>7000].reset_index().drop('index', axis=1)\n",
        "\n",
        "print(colm_stats)\n",
        "\n",
        "\n",
        "\n",
        "# Plot the airlines to see which ones had the worst/best delay record\n",
        "fig, ax = plt.subplots(figsize=(10,6))\n",
        "ax.scatter(colm_stats['PCT_DELAYED'], colm_stats['AVG_DELAY'], \n",
        "           alpha=0.7, marker=\"o\", s=colm_stats['TOTAL_FLIGHTS']/1000, color=\"#5D3A9B\")\n",
        "ax.set_ylim([60, 90])\n",
        "ax.set_xlim([5, 30])\n",
        "plt.xticks(fontsize=13)\n",
        "plt.yticks(fontsize=13)\n",
        "plt.title('Delays by Scheduled Departure Time', weight='semibold', size=25)\n",
        "plt.xlabel('% of Flights Delayed', weight='medium', size=20)\n",
        "plt.ylabel('Avg Delay (mins)', weight='medium', size=20)\n",
        "for i, label in enumerate(colm_stats['CRS_DEP_TIME_BUCKET']):\n",
        "    ax.text(colm_stats['PCT_DELAYED'][i]-1.3, colm_stats['AVG_DELAY'][i]+1, label,\n",
        "           weight='semibold', size=15)\n",
        "ax.text(20, 87, 'Circle size denotes ', size=15, weight='bold', color='#5D3A9B')\n",
        "ax.text(20.3, 85, 'number of flights ', size=15, weight='bold', color='#5D3A9B')\n",
        "plt.show()"
      ],
      "id": "-zWYGIzvZec3",
      "execution_count": null,
      "outputs": []
    },
    {
      "cell_type": "markdown",
      "metadata": {
        "id": "Jg4Vkth1Zec4"
      },
      "source": [
        "#### Variable: YEAR_MFR ----> Becomes: ACFT_AGE"
      ],
      "id": "Jg4Vkth1Zec4"
    },
    {
      "cell_type": "code",
      "metadata": {
        "id": "YLC_OR7pZec4"
      },
      "source": [
        "basecopy[\"ACFT_AGE\"] = 2019 - basecopy.YEAR_MFR\n",
        "\n",
        "# Confirm it worked\n",
        "basecopy.loc[0:5, [\"YEAR_MFR\", \"ACFT_AGE\"]]"
      ],
      "id": "YLC_OR7pZec4",
      "execution_count": null,
      "outputs": []
    },
    {
      "cell_type": "markdown",
      "metadata": {
        "id": "2YU3PnLdZec4"
      },
      "source": [
        "#### Variable: MODEL_GROUP_Aircraft ----> Becomes: ACFT_MODEL_REDUCED"
      ],
      "id": "2YU3PnLdZec4"
    },
    {
      "cell_type": "code",
      "metadata": {
        "id": "9opfQyXBZec5"
      },
      "source": [
        "print(\"Model    Count\")\n",
        "print(training.MODEL_GROUP_Aircraft.value_counts().head(25))\n",
        "print(\"\")"
      ],
      "id": "9opfQyXBZec5",
      "execution_count": null,
      "outputs": []
    },
    {
      "cell_type": "code",
      "metadata": {
        "scrolled": true,
        "id": "IijXfJUcZec5"
      },
      "source": [
        "basecopy[\"ACFT_MODEL_REDUCED\"] = basecopy[\"MODEL_GROUP_Aircraft\"]\n",
        "\n",
        "basecopy.loc[basecopy.ACFT_MODEL_REDUCED==\"CL-600\", \"ACFT_MODEL_REDUCED\"] = \"CL600\"\n",
        "basecopy.loc[basecopy.ACFT_MODEL_REDUCED==\"ERJ 170\", \"ACFT_MODEL_REDUCED\"] = \"ERJ170\"\n",
        "basecopy.loc[basecopy.ACFT_MODEL_REDUCED==\"EMB-145\", \"ACFT_MODEL_REDUCED\"] = \"EMB145\"\n",
        "basecopy.loc[basecopy.ACFT_MODEL_REDUCED==\"717-200\", \"ACFT_MODEL_REDUCED\"] = \"717_200\"\n",
        "basecopy.loc[basecopy.ACFT_MODEL_REDUCED==\"ERJ 190\", \"ACFT_MODEL_REDUCED\"] = \"ERJ190\"\n",
        "basecopy.loc[basecopy.ACFT_MODEL_REDUCED==\"MD-88\", \"ACFT_MODEL_REDUCED\"] = \"MD88\"\n",
        "basecopy.loc[basecopy.ACFT_MODEL_REDUCED==\"EMB-135KL\", \"ACFT_MODEL_REDUCED\"] = \"EMB135KL\"\n",
        "basecopy.loc[basecopy.ACFT_MODEL_REDUCED==\"DHC-8\", \"ACFT_MODEL_REDUCED\"] = \"DHC8\"\n",
        "basecopy.loc[basecopy.ACFT_MODEL_REDUCED==\"MD-90-30\", \"ACFT_MODEL_REDUCED\"] = \"MD90_30\"\n",
        "basecopy.loc[basecopy.ACFT_MODEL_REDUCED==\"DC-9\", \"ACFT_MODEL_REDUCED\"] = \"DC9\"\n",
        "basecopy.loc[basecopy.ACFT_MODEL_REDUCED==\"BD-500-1A10\", \"ACFT_MODEL_REDUCED\"] = \"BD500\"\n",
        "basecopy.loc[basecopy.ACFT_MODEL_REDUCED.astype(str).str.contains('A330', case=False), \"ACFT_MODEL_REDUCED\"] = \"A330\"\n",
        "basecopy.loc[basecopy.ACFT_MODEL_REDUCED==\"ATR42-500\", \"ACFT_MODEL_REDUCED\"] = \"ATR42_500\"\n",
        "\n",
        "basecopy.loc[~(basecopy[\"ACFT_MODEL_REDUCED\"].isin(['nan', '737', 'CL600', 'ERJ170', 'A320', 'A321', 'EMB145', 'A319',\n",
        "                                                   '717_200', '757', 'ERJ190', 'MD88', 'EMB135KL', 'DHC8', 'MD90_30',\n",
        "                                                   'DC9', '777', '767', 'BD500', 'A330', 'ATR42_500', '787'])), \n",
        "             \"ACFT_MODEL_REDUCED\"] = \"OTHER\"\n",
        "\n",
        "\n",
        "# Confirm it work and look at crosstab freq table\n",
        "print(\"Model    Count\")\n",
        "print(basecopy.ACFT_MODEL_REDUCED.value_counts())\n",
        "print(\"\")\n",
        "\n",
        "print(\"Crosstab Freqs:\")\n",
        "cxtab = pd.crosstab(basecopy.ACFT_MODEL_REDUCED, training.DEP_DELAY_GE30, \n",
        "                               margins=True, margins_name=\"Total\", normalize='index')\n",
        "\n",
        "print(cxtab.sort_values(by=1, ascending=False))"
      ],
      "id": "IijXfJUcZec5",
      "execution_count": null,
      "outputs": []
    },
    {
      "cell_type": "code",
      "metadata": {
        "id": "Pq0ZDItoZec5"
      },
      "source": [
        "# Get the avg delay for each engine manufacturer\n",
        "avg_delays = basecopy.loc[basecopy.DEP_DELAY>=15, ['ACFT_MODEL_REDUCED',\n",
        "                                                          'DEP_DELAY']].groupby(by='ACFT_MODEL_REDUCED', \n",
        "                                                                                as_index=False).mean().rename(columns={'DEP_DELAY':'AVG_DELAY'})\n",
        "\n",
        "\n",
        "pct_delayed = basecopy[['ACFT_MODEL_REDUCED', \n",
        "                                'DEP_DELAY_GE15', \n",
        "                                'DEP_DELAY_GE60', \n",
        "                                'MONTH']].groupby(by='ACFT_MODEL_REDUCED', \n",
        "                                                  as_index=False).agg({'DEP_DELAY_GE15':'sum', \n",
        "                                                                       'DEP_DELAY_GE60':'sum',\n",
        "                                                                       'MONTH':'count'}).rename(columns={'MONTH':'TOTAL_FLIGHTS'})\n",
        "\n",
        "# print(pct_delayed.sort_values(by=['TOTAL_FLIGHTS']))\n",
        "\n",
        "# Get the % of flights delays for each airline (as well as number of flights and % of flights delayed >=60)\n",
        "pct_delayed['PCT_DELAYED']=100*pct_delayed.DEP_DELAY_GE15/pct_delayed.TOTAL_FLIGHTS\n",
        "pct_delayed['PCT_GE60']=100*pct_delayed.DEP_DELAY_GE60/pct_delayed.TOTAL_FLIGHTS\n",
        "pct_delayed = pct_delayed[['ACFT_MODEL_REDUCED', 'PCT_DELAYED', 'PCT_GE60', 'TOTAL_FLIGHTS']]\n",
        "\n",
        "\n",
        "# Merge the datasets (and bring in the airline name to replace the code)\n",
        "colm_stats = avg_delays.merge(pct_delayed).sort_values(by=['TOTAL_FLIGHTS'])\n",
        "colm_stats = avg_delays.merge(pct_delayed)\n",
        "colm_stats = colm_stats.loc[colm_stats.ACFT_MODEL_REDUCED != 'nan'].reset_index().drop('index', axis=1)\n",
        "colm_stats = colm_stats.loc[colm_stats.ACFT_MODEL_REDUCED != 'OTHER'].reset_index().drop('index', axis=1)\n",
        "\n",
        "print(colm_stats)\n",
        "\n",
        "\n",
        "\n",
        "# Plot the airlines to see which ones had the worst/best delay record\n",
        "fig, ax = plt.subplots(figsize=(20,12))\n",
        "ax.scatter(colm_stats['PCT_DELAYED'], colm_stats['AVG_DELAY'], \n",
        "           alpha=0.7, marker=\">\", s=colm_stats['TOTAL_FLIGHTS']/150, color='#00B9F1')\n",
        "plt.xticks(fontsize=13)\n",
        "plt.yticks(fontsize=13)\n",
        "plt.title('2019 Delays by Aircraft Model', weight='semibold', size=25)\n",
        "plt.xlabel('% of Flights Delayed', weight='medium', size=20)\n",
        "plt.ylabel('Avg Delay (mins)', weight='medium', size=20)\n",
        "for i, label in enumerate(colm_stats['ACFT_MODEL_REDUCED']):\n",
        "    ax.text(colm_stats['PCT_DELAYED'][i]-0.15, colm_stats['AVG_DELAY'][i]+.8, label,\n",
        "           weight='semibold', size=15)\n",
        "ax.text(10.7, 95, 'Triangle size denotes ', size=15, weight='bold', color='#00B9F1')\n",
        "ax.text(10.9, 93, 'number of flights ', size=15, weight='bold', color='#00B9F1')\n",
        "plt.show()"
      ],
      "id": "Pq0ZDItoZec5",
      "execution_count": null,
      "outputs": []
    },
    {
      "cell_type": "markdown",
      "metadata": {
        "id": "yuODEY4fZec6"
      },
      "source": [
        "### Log and Polynomial Transforms"
      ],
      "id": "yuODEY4fZec6"
    },
    {
      "cell_type": "code",
      "metadata": {
        "id": "RoNT9sYCZec6"
      },
      "source": [
        "basecopy[\"LOG_DISTANCE\"]= np.log(basecopy[\"DISTANCE\"])\n",
        "basecopy[[\"DISTANCE\", \"LOG_DISTANCE\"]].head(3)"
      ],
      "id": "RoNT9sYCZec6",
      "execution_count": null,
      "outputs": []
    },
    {
      "cell_type": "code",
      "metadata": {
        "id": "SYEAgjj1Zec7"
      },
      "source": [
        "basecopy[\"LOG_FLIGHTS_BTWN\"]= np.log(basecopy[\"annual_number_of_flights_btwn\"])\n",
        "basecopy[[\"annual_number_of_flights_btwn\", \"LOG_FLIGHTS_BTWN\"]].head(3)"
      ],
      "id": "SYEAgjj1Zec7",
      "execution_count": null,
      "outputs": []
    },
    {
      "cell_type": "code",
      "metadata": {
        "id": "MW45xt6ZZec7"
      },
      "source": [
        "basecopy[\"LOG_DEPT_COUNT\"]= np.log(basecopy[\"annual_departure_count\"])\n",
        "basecopy[[\"annual_departure_count\", \"LOG_DEPT_COUNT\"]].head(3)"
      ],
      "id": "MW45xt6ZZec7",
      "execution_count": null,
      "outputs": []
    },
    {
      "cell_type": "code",
      "metadata": {
        "id": "ObrMbr9zZec8"
      },
      "source": [
        "basecopy[\"LOG_NO_SEATS\"]= np.log(basecopy[\"NO_SEATS\"]+1)\n",
        "basecopy[[\"NO_SEATS\", \"LOG_NO_SEATS\"]].head(3)"
      ],
      "id": "ObrMbr9zZec8",
      "execution_count": null,
      "outputs": []
    },
    {
      "cell_type": "code",
      "metadata": {
        "id": "qs9e8aWZZec8"
      },
      "source": [
        ""
      ],
      "id": "qs9e8aWZZec8",
      "execution_count": null,
      "outputs": []
    },
    {
      "cell_type": "code",
      "metadata": {
        "id": "qxbSnjwRZec8"
      },
      "source": [
        "print(basecopy[basecopy.ENGREF_MATCHES==True].shape)\n",
        "print(basecopy[~(basecopy.ENGREF_MATCHES==True)].shape)\n",
        "print(basecopy[basecopy.ENGREF_MATCHES==False].shape)\n",
        "print(basecopy[pd.isnull(basecopy.ENGREF_MATCHES)].shape)"
      ],
      "id": "qxbSnjwRZec8",
      "execution_count": null,
      "outputs": []
    },
    {
      "cell_type": "markdown",
      "metadata": {
        "id": "OPsX1GHaZec8"
      },
      "source": [
        "### Remove unneeded columns"
      ],
      "id": "OPsX1GHaZec8"
    },
    {
      "cell_type": "markdown",
      "metadata": {
        "id": "jCYBksgyZec9"
      },
      "source": [
        "\"basekeep\" will be the dataset we move forward with for model development"
      ],
      "id": "jCYBksgyZec9"
    },
    {
      "cell_type": "code",
      "metadata": {
        "id": "OFPf6XCxZec9"
      },
      "source": [
        "print(basecopy.shape)\n",
        "basekeep = basecopy.copy()\n",
        "\n",
        "# Only keep rows where the engine info from the ENGINE table matches what is in the aircraft table.\n",
        "basekeep = basekeep[basekeep.ENGREF_MATCHES==True]\n",
        "print(basekeep.shape)\n",
        "\n",
        "# This will be the dataset we move forward with for model development\n",
        "basekeep = basekeep[[\"DEP_DELAY\", \"DEP_DELAY_HR\", \"DEP_DELAY_GE15\",\"DEP_DELAY_GE30\", \"DEP_DELAY_GE45\", \"DEP_DELAY_GE60\",\n",
        "                     \"MONTH\", \"DAY_OF_WEEK\", \"OP_CARRIER_REDUCED\", \"ORIGIN_REDUCED\", \"CRS_DEP_TIME_BUCKET\", \n",
        "                     \"DISTANCE\", \"LOG_DISTANCE\", \"ACFT_AGE\", \"TYPE_AIRCRAFT\", \"TYPE_ENGINE\", \"NO_ENG\", \n",
        "                     \"NO_SEATS\", \"LOG_NO_SEATS\", \"AC_WEIGHT\", \"MFR_ENGINE_REDUCED\", \"THRUST\", \n",
        "                     \"ACFT_MFR_REDUCED\", \"annual_departure_count\", \"LOG_DEPT_COUNT\", \"airline_count\", \n",
        "                     \"annual_number_of_flights_btwn\", \"LOG_FLIGHTS_BTWN\", \"ACTIVE_AIRCRAFT_CNT_2018\", \n",
        "                     \"ANNUAL_FLT_CNT_2018\", \"ANNUAL_AIR_MILES_2018\", \"ACFT_MODEL_REDUCED\"]]\n",
        "\n",
        "print(basekeep.shape)\n",
        "print(\"\")\n",
        "print(\"Missing Value counts: \")\n",
        "print(basekeep.isnull().sum()[basekeep.isnull().sum()>0])"
      ],
      "id": "OFPf6XCxZec9",
      "execution_count": null,
      "outputs": []
    },
    {
      "cell_type": "markdown",
      "metadata": {
        "id": "ZrHXTyVDZec9"
      },
      "source": [
        "### Imputation and/or Removal of null values"
      ],
      "id": "ZrHXTyVDZec9"
    },
    {
      "cell_type": "code",
      "metadata": {
        "id": "hdMmXEeFZec-"
      },
      "source": [
        "# Looking at the data, when DEP_DELAY is missing, the flight was cancelled. So remove these records.\n",
        "basekeep = basekeep[~(basekeep.DEP_DELAY.isnull())]\n",
        "\n",
        "# Also remove records where missing annual_number_of_flights_btwn\n",
        "basekeep = basekeep[~(basekeep.annual_number_of_flights_btwn.isnull())]\n",
        "\n",
        "print(basekeep.shape)\n",
        "print(\"\")\n",
        "print(\"Missing Value counts: \")\n",
        "print(basekeep.isnull().sum()[basekeep.isnull().sum()>0])"
      ],
      "id": "hdMmXEeFZec-",
      "execution_count": null,
      "outputs": []
    },
    {
      "cell_type": "code",
      "metadata": {
        "id": "PMaKiioeZec-"
      },
      "source": [
        "# Impute missing aircraft age with the median age pre aircraft model\n",
        "\n",
        "# First create a dataframe of median age for each acft model\n",
        "medianages = pd.DataFrame(basekeep.groupby(\"ACFT_MODEL_REDUCED\")[\"ACFT_AGE\"].median())\n",
        "medianages[\"Median_Age\"] = medianages.ACFT_AGE\n",
        "medianages.reset_index(inplace=True)\n",
        "medianages= medianages[[\"ACFT_MODEL_REDUCED\", \"Median_Age\"]]\n",
        "print(medianages)\n",
        "\n",
        "# Join that dataframe and replace missing ACFT_AGE values. The new imputed column is called ACFT_AGE_IMPUTED\n",
        "basekeep = basekeep.merge(medianages, on='ACFT_MODEL_REDUCED', how='left')\n",
        "basekeep[\"ACFT_AGE_IMPUTED\"] = basekeep[\"ACFT_AGE\"]\n",
        "basekeep.loc[basekeep[\"ACFT_AGE_IMPUTED\"].isnull(),\"ACFT_AGE_IMPUTED\"]=basekeep[\"Median_Age\"]\n",
        "\n",
        "basekeep.drop(\"Median_Age\", axis=1, inplace=True)"
      ],
      "id": "PMaKiioeZec-",
      "execution_count": null,
      "outputs": []
    },
    {
      "cell_type": "code",
      "metadata": {
        "id": "u9I3_VrcZec-"
      },
      "source": [
        "print(basekeep.shape) \n",
        "print(basekeep[[\"ACFT_AGE\", \"ACFT_AGE_IMPUTED\"]])\n",
        "\n",
        "basekeep.drop(\"ACFT_AGE\", axis=1, inplace=True)\n",
        "print(basekeep.shape) "
      ],
      "id": "u9I3_VrcZec-",
      "execution_count": null,
      "outputs": []
    },
    {
      "cell_type": "code",
      "metadata": {
        "id": "MNVOSnmFZec_"
      },
      "source": [
        "# Create a polynomial feature for Age variable\n",
        "basekeep[\"ACFT_AGE_IMPUTED_2\"] = basekeep[\"ACFT_AGE_IMPUTED\"]**2\n",
        "basekeep[[\"ACFT_AGE_IMPUTED\", \"ACFT_AGE_IMPUTED_2\"]].head(3)"
      ],
      "id": "MNVOSnmFZec_",
      "execution_count": null,
      "outputs": []
    },
    {
      "cell_type": "markdown",
      "metadata": {
        "id": "kWQtw5NeZedA"
      },
      "source": [
        "### Create dummy columns for categorical variables"
      ],
      "id": "kWQtw5NeZedA"
    },
    {
      "cell_type": "code",
      "metadata": {
        "id": "RZNcp6asZedA"
      },
      "source": [
        "# Create dummies for categorical columns\n",
        "base_dummied = pd.get_dummies(basekeep, \n",
        "                           columns=['MONTH', 'DAY_OF_WEEK', \"OP_CARRIER_REDUCED\", \n",
        "                                    \"ORIGIN_REDUCED\", \"CRS_DEP_TIME_BUCKET\", \"TYPE_AIRCRAFT\", \n",
        "                                    \"TYPE_ENGINE\", \"NO_ENG\", \"AC_WEIGHT\", \"MFR_ENGINE_REDUCED\", \n",
        "                                    \"ACFT_MFR_REDUCED\", \"ACFT_MODEL_REDUCED\"])\n",
        "\n",
        "print(base_dummied.shape)\n",
        "print(base_dummied.columns[0:100])\n",
        "print(base_dummied.columns[100:119])"
      ],
      "id": "RZNcp6asZedA",
      "execution_count": null,
      "outputs": []
    },
    {
      "cell_type": "code",
      "metadata": {
        "id": "5MwrPsjMZedA"
      },
      "source": [
        "base_dummied.shape"
      ],
      "id": "5MwrPsjMZedA",
      "execution_count": null,
      "outputs": []
    },
    {
      "cell_type": "code",
      "metadata": {
        "id": "7aHyZHAcZedB"
      },
      "source": [
        "len(base_dummied.DEP_DELAY)"
      ],
      "id": "7aHyZHAcZedB",
      "execution_count": null,
      "outputs": []
    },
    {
      "cell_type": "markdown",
      "metadata": {
        "id": "ifX9v06NZedB"
      },
      "source": [
        "# IV. Model Building"
      ],
      "id": "ifX9v06NZedB"
    },
    {
      "cell_type": "code",
      "metadata": {
        "id": "IfWUDNLcZedB"
      },
      "source": [
        "#display.Image(os.path.join(a_path, a_folder, \"IMG_Construction.jpg\")) # https://drive.google.com/file/d/1GgyuK9MjBWR-hNlLleEeRfK-w6876k5S/view?usp=sharing"
      ],
      "id": "IfWUDNLcZedB",
      "execution_count": null,
      "outputs": []
    },
    {
      "cell_type": "markdown",
      "metadata": {
        "id": "CwNIUKVykisB"
      },
      "source": [
        "![picture](https://drive.google.com/uc?id=1GgyuK9MjBWR-hNlLleEeRfK-w6876k5S)"
      ],
      "id": "CwNIUKVykisB"
    },
    {
      "cell_type": "markdown",
      "metadata": {
        "id": "lVN8STOeZedC"
      },
      "source": [
        "# PCA"
      ],
      "id": "lVN8STOeZedC"
    },
    {
      "cell_type": "markdown",
      "metadata": {
        "id": "KFMpRR7TZedC"
      },
      "source": [
        "________________________________________________________________________________"
      ],
      "id": "KFMpRR7TZedC"
    },
    {
      "cell_type": "markdown",
      "metadata": {
        "id": "beMkDhSSZedD"
      },
      "source": [
        "Find the Principle components to reduce the dimensionality\n",
        "[Wicked animated GIF which illustrates PCA](http://stats.stackexchange.com/questions/2691/making-sense-of-principal-component-analysis-eigenvectors-eigenvalues)\n",
        "\n",
        "Magically, eigen-decomposition (or PCA) finds the line where\n",
        "1. the spread of values along the black line is **maximal**\n",
        "2. the projection error (sum of red lines) is **minimal**\n",
        "\n",
        "<img src=\"https://i.stack.imgur.com/Q7HIP.gif\">"
      ],
      "id": "beMkDhSSZedD"
    },
    {
      "cell_type": "code",
      "metadata": {
        "id": "JjqyPzMQZedD"
      },
      "source": [
        "base_dummied.isna().sum()"
      ],
      "id": "JjqyPzMQZedD",
      "execution_count": null,
      "outputs": []
    },
    {
      "cell_type": "code",
      "metadata": {
        "id": "iwieg4DtZedD"
      },
      "source": [
        "[ i for i in base_dummied.columns]"
      ],
      "id": "iwieg4DtZedD",
      "execution_count": null,
      "outputs": []
    },
    {
      "cell_type": "code",
      "metadata": {
        "id": "ckdVEIHiZedE"
      },
      "source": [
        "base_dummied_final=base_dummied.drop(labels=['DEP_DELAY','DEP_DELAY_GE15','DEP_DELAY_GE30','DEP_DELAY_GE45','DEP_DELAY_GE60','DEP_DELAY_HR'], axis=1)"
      ],
      "id": "ckdVEIHiZedE",
      "execution_count": null,
      "outputs": []
    },
    {
      "cell_type": "code",
      "metadata": {
        "id": "zIX8HWDJZedE"
      },
      "source": [
        "print(base_dummied.shape)\n",
        "print(base_dummied_final.shape)"
      ],
      "id": "zIX8HWDJZedE",
      "execution_count": null,
      "outputs": []
    },
    {
      "cell_type": "code",
      "metadata": {
        "id": "cAtwbuwIZedF"
      },
      "source": [
        "print(len(base_dummied))\n",
        "print(len(base_dummied_final))"
      ],
      "id": "cAtwbuwIZedF",
      "execution_count": null,
      "outputs": []
    },
    {
      "cell_type": "code",
      "metadata": {
        "id": "BztQ40rYZedG"
      },
      "source": [
        "base_dummied_regression_Y=base_dummied['DEP_DELAY']\n",
        "base_dummied_regression_Y.shape"
      ],
      "id": "BztQ40rYZedG",
      "execution_count": null,
      "outputs": []
    },
    {
      "cell_type": "code",
      "metadata": {
        "id": "SdCuCzw3ZedG"
      },
      "source": [
        "len([i for i in base_dummied.DEP_DELAY])"
      ],
      "id": "SdCuCzw3ZedG",
      "execution_count": null,
      "outputs": []
    },
    {
      "cell_type": "code",
      "metadata": {
        "id": "dqmDFc3OZedH"
      },
      "source": [
        "len(base_dummied['DEP_DELAY'])"
      ],
      "id": "dqmDFc3OZedH",
      "execution_count": null,
      "outputs": []
    },
    {
      "cell_type": "code",
      "metadata": {
        "id": "SBit9cnrZedH"
      },
      "source": [
        "base_dummied_final.describe()"
      ],
      "id": "SBit9cnrZedH",
      "execution_count": null,
      "outputs": []
    },
    {
      "cell_type": "code",
      "metadata": {
        "id": "5uwkqN_EZedI"
      },
      "source": [
        "pd.set_option('display.max_rows', 5)\n",
        "pd.set_option('display.max_columns', None)\n",
        "pd.set_option('display.width', None)\n",
        "pd.set_option('display.max_colwidth', None)"
      ],
      "id": "5uwkqN_EZedI",
      "execution_count": null,
      "outputs": []
    },
    {
      "cell_type": "code",
      "metadata": {
        "id": "PWIIfiOqZedI"
      },
      "source": [
        "base_dummied_final.head()"
      ],
      "id": "PWIIfiOqZedI",
      "execution_count": null,
      "outputs": []
    },
    {
      "cell_type": "code",
      "metadata": {
        "id": "ZTRtcmggZedJ"
      },
      "source": [
        "scaler_df=base_dummied_final[[\n",
        " 'DISTANCE',\n",
        " 'LOG_DISTANCE',\n",
        " 'NO_SEATS',\n",
        " 'LOG_NO_SEATS',\n",
        " 'THRUST',\n",
        " 'annual_departure_count',\n",
        " 'LOG_DEPT_COUNT',\n",
        " 'airline_count',\n",
        " 'annual_number_of_flights_btwn',\n",
        " 'LOG_FLIGHTS_BTWN',\n",
        " 'ACTIVE_AIRCRAFT_CNT_2018',\n",
        " 'ANNUAL_FLT_CNT_2018',\n",
        " 'ANNUAL_AIR_MILES_2018',\n",
        " 'ACFT_AGE_IMPUTED',\n",
        " 'ACFT_AGE_IMPUTED_2']\n",
        " ]"
      ],
      "id": "ZTRtcmggZedJ",
      "execution_count": null,
      "outputs": []
    },
    {
      "cell_type": "code",
      "metadata": {
        "id": "mf8nRsMxZedJ"
      },
      "source": [
        "scaler_df.shape"
      ],
      "id": "mf8nRsMxZedJ",
      "execution_count": null,
      "outputs": []
    },
    {
      "cell_type": "code",
      "metadata": {
        "id": "VOZQbTozZedK"
      },
      "source": [
        "from sklearn.preprocessing import StandardScaler\n",
        "scaler=StandardScaler()\n",
        "scaled_data=scaler.fit_transform(scaler_df)"
      ],
      "id": "VOZQbTozZedK",
      "execution_count": null,
      "outputs": []
    },
    {
      "cell_type": "code",
      "metadata": {
        "id": "M2OhCeGvZedK"
      },
      "source": [
        "scaled_data_final=pd.DataFrame(data=scaled_data, columns= scaler_df.columns)"
      ],
      "id": "M2OhCeGvZedK",
      "execution_count": null,
      "outputs": []
    },
    {
      "cell_type": "code",
      "metadata": {
        "id": "CsLgTBAfZedL"
      },
      "source": [
        "scaled_data_final.describe()"
      ],
      "id": "CsLgTBAfZedL",
      "execution_count": null,
      "outputs": []
    },
    {
      "cell_type": "code",
      "metadata": {
        "id": "Iu1y3lebZedL"
      },
      "source": [
        "scaled_data_final.shape"
      ],
      "id": "Iu1y3lebZedL",
      "execution_count": null,
      "outputs": []
    },
    {
      "cell_type": "code",
      "metadata": {
        "id": "bbQd-KwCZedM"
      },
      "source": [
        "base_dummied_final.shape"
      ],
      "id": "bbQd-KwCZedM",
      "execution_count": null,
      "outputs": []
    },
    {
      "cell_type": "code",
      "metadata": {
        "id": "KzXkoe0ZZedN"
      },
      "source": [
        "base_dummied_final.head()"
      ],
      "id": "KzXkoe0ZZedN",
      "execution_count": null,
      "outputs": []
    },
    {
      "cell_type": "code",
      "metadata": {
        "id": "eCdVoMeCZedO"
      },
      "source": [
        "scaled_data_final[[\n",
        " 'MONTH_1',\n",
        " 'MONTH_2',\n",
        " 'MONTH_3',\n",
        " 'MONTH_4',\n",
        " 'MONTH_5',\n",
        " 'MONTH_6',\n",
        " 'MONTH_7',\n",
        " 'MONTH_8',\n",
        " 'MONTH_9',\n",
        " 'MONTH_10',\n",
        " 'MONTH_11',\n",
        " 'MONTH_12',\n",
        " 'DAY_OF_WEEK_1',\n",
        " 'DAY_OF_WEEK_2',\n",
        " 'DAY_OF_WEEK_3',\n",
        " 'DAY_OF_WEEK_4',\n",
        " 'DAY_OF_WEEK_5',\n",
        " 'DAY_OF_WEEK_6',\n",
        " 'DAY_OF_WEEK_7',\n",
        " 'OP_CARRIER_REDUCED_9E',\n",
        " 'OP_CARRIER_REDUCED_AA',\n",
        " 'OP_CARRIER_REDUCED_AS',\n",
        " 'OP_CARRIER_REDUCED_AX',\n",
        " 'OP_CARRIER_REDUCED_B6',\n",
        " 'OP_CARRIER_REDUCED_C5',\n",
        " 'OP_CARRIER_REDUCED_DL',\n",
        " 'OP_CARRIER_REDUCED_EM',\n",
        " 'OP_CARRIER_REDUCED_EV',\n",
        " 'OP_CARRIER_REDUCED_F9',\n",
        " 'OP_CARRIER_REDUCED_G7',\n",
        " 'OP_CARRIER_REDUCED_HA',\n",
        " 'OP_CARRIER_REDUCED_KS',\n",
        " 'OP_CARRIER_REDUCED_MQ',\n",
        " 'OP_CARRIER_REDUCED_NK',\n",
        " 'OP_CARRIER_REDUCED_OH',\n",
        " 'OP_CARRIER_REDUCED_OTHER',\n",
        " 'OP_CARRIER_REDUCED_QX',\n",
        " 'OP_CARRIER_REDUCED_UA',\n",
        " 'OP_CARRIER_REDUCED_WN',\n",
        " 'OP_CARRIER_REDUCED_YV',\n",
        " 'OP_CARRIER_REDUCED_YX',\n",
        " 'ORIGIN_REDUCED_ATL',\n",
        " 'ORIGIN_REDUCED_BOS',\n",
        " 'ORIGIN_REDUCED_DEN',\n",
        " 'ORIGIN_REDUCED_DFW',\n",
        " 'ORIGIN_REDUCED_EWR',\n",
        " 'ORIGIN_REDUCED_IAH',\n",
        " 'ORIGIN_REDUCED_LGA',\n",
        " 'ORIGIN_REDUCED_MCO',\n",
        " 'ORIGIN_REDUCED_MSP',\n",
        " 'ORIGIN_REDUCED_ORD',\n",
        " 'ORIGIN_REDUCED_OTHER',\n",
        " 'ORIGIN_REDUCED_SEA',\n",
        " 'ORIGIN_REDUCED_SFO',\n",
        " 'CRS_DEP_TIME_BUCKET_1pm-5pm',\n",
        " 'CRS_DEP_TIME_BUCKET_5am-9am',\n",
        " 'CRS_DEP_TIME_BUCKET_5pm-9pm',\n",
        " 'CRS_DEP_TIME_BUCKET_9am-1pm',\n",
        " 'CRS_DEP_TIME_BUCKET_Redeye',\n",
        " 'TYPE_AIRCRAFT_Fixed wing multi engine',\n",
        " 'TYPE_AIRCRAFT_Fixed wing single engine',\n",
        " 'TYPE_AIRCRAFT_Rotorcraft',\n",
        " 'TYPE_ENGINE_Reciprocating',\n",
        " 'TYPE_ENGINE_Turbo-fan',\n",
        " 'TYPE_ENGINE_Turbo-jet',\n",
        " 'TYPE_ENGINE_Turbo-prop',\n",
        " 'TYPE_ENGINE_Turbo-shaft',\n",
        " 'NO_ENG_1.0',\n",
        " 'NO_ENG_2.0',\n",
        " 'NO_ENG_3.0',\n",
        " 'AC_WEIGHT_CLASS 1',\n",
        " 'AC_WEIGHT_CLASS 2',\n",
        " 'AC_WEIGHT_CLASS 3',\n",
        " 'MFR_ENGINE_REDUCED_ALLISON',\n",
        " 'MFR_ENGINE_REDUCED_CFM',\n",
        " 'MFR_ENGINE_REDUCED_GE',\n",
        " 'MFR_ENGINE_REDUCED_IAE',\n",
        " 'MFR_ENGINE_REDUCED_LYCOMING',\n",
        " 'MFR_ENGINE_REDUCED_OTHER',\n",
        " 'MFR_ENGINE_REDUCED_PW',\n",
        " 'MFR_ENGINE_REDUCED_ROLLS',\n",
        " 'ACFT_MFR_REDUCED_AIRBUS',\n",
        " 'ACFT_MFR_REDUCED_ALENIA',\n",
        " 'ACFT_MFR_REDUCED_BELL',\n",
        " 'ACFT_MFR_REDUCED_BOEING',\n",
        " 'ACFT_MFR_REDUCED_BOMBARDIER',\n",
        " 'ACFT_MFR_REDUCED_CANADAIR',\n",
        " 'ACFT_MFR_REDUCED_CHAMPION',\n",
        " 'ACFT_MFR_REDUCED_CSERIES',\n",
        " 'ACFT_MFR_REDUCED_EMBRAER',\n",
        " 'ACFT_MFR_REDUCED_MCDONNELL',\n",
        " 'ACFT_MFR_REDUCED_OTHER',\n",
        " 'ACFT_MFR_REDUCED_PIPER',\n",
        " 'ACFT_MFR_REDUCED_SAAB',\n",
        " 'ACFT_MODEL_REDUCED_717_200',\n",
        " 'ACFT_MODEL_REDUCED_737',\n",
        " 'ACFT_MODEL_REDUCED_757',\n",
        " 'ACFT_MODEL_REDUCED_767',\n",
        " 'ACFT_MODEL_REDUCED_777',\n",
        " 'ACFT_MODEL_REDUCED_787',\n",
        " 'ACFT_MODEL_REDUCED_A319',\n",
        " 'ACFT_MODEL_REDUCED_A320',\n",
        " 'ACFT_MODEL_REDUCED_A321',\n",
        " 'ACFT_MODEL_REDUCED_A330',\n",
        " 'ACFT_MODEL_REDUCED_ATR42_500',\n",
        " 'ACFT_MODEL_REDUCED_BD500',\n",
        " 'ACFT_MODEL_REDUCED_CL600',\n",
        " 'ACFT_MODEL_REDUCED_DHC8',\n",
        " 'ACFT_MODEL_REDUCED_EMB135KL',\n",
        " 'ACFT_MODEL_REDUCED_EMB145',\n",
        " 'ACFT_MODEL_REDUCED_ERJ170',\n",
        " 'ACFT_MODEL_REDUCED_ERJ190',\n",
        " 'ACFT_MODEL_REDUCED_MD88',\n",
        " 'ACFT_MODEL_REDUCED_MD90_30',\n",
        " 'ACFT_MODEL_REDUCED_OTHER']]=base_dummied_final[[\n",
        " 'MONTH_1',\n",
        " 'MONTH_2',\n",
        " 'MONTH_3',\n",
        " 'MONTH_4',\n",
        " 'MONTH_5',\n",
        " 'MONTH_6',\n",
        " 'MONTH_7',\n",
        " 'MONTH_8',\n",
        " 'MONTH_9',\n",
        " 'MONTH_10',\n",
        " 'MONTH_11',\n",
        " 'MONTH_12',\n",
        " 'DAY_OF_WEEK_1',\n",
        " 'DAY_OF_WEEK_2',\n",
        " 'DAY_OF_WEEK_3',\n",
        " 'DAY_OF_WEEK_4',\n",
        " 'DAY_OF_WEEK_5',\n",
        " 'DAY_OF_WEEK_6',\n",
        " 'DAY_OF_WEEK_7',\n",
        " 'OP_CARRIER_REDUCED_9E',\n",
        " 'OP_CARRIER_REDUCED_AA',\n",
        " 'OP_CARRIER_REDUCED_AS',\n",
        " 'OP_CARRIER_REDUCED_AX',\n",
        " 'OP_CARRIER_REDUCED_B6',\n",
        " 'OP_CARRIER_REDUCED_C5',\n",
        " 'OP_CARRIER_REDUCED_DL',\n",
        " 'OP_CARRIER_REDUCED_EM',\n",
        " 'OP_CARRIER_REDUCED_EV',\n",
        " 'OP_CARRIER_REDUCED_F9',\n",
        " 'OP_CARRIER_REDUCED_G7',\n",
        " 'OP_CARRIER_REDUCED_HA',\n",
        " 'OP_CARRIER_REDUCED_KS',\n",
        " 'OP_CARRIER_REDUCED_MQ',\n",
        " 'OP_CARRIER_REDUCED_NK',\n",
        " 'OP_CARRIER_REDUCED_OH',\n",
        " 'OP_CARRIER_REDUCED_OTHER',\n",
        " 'OP_CARRIER_REDUCED_QX',\n",
        " 'OP_CARRIER_REDUCED_UA',\n",
        " 'OP_CARRIER_REDUCED_WN',\n",
        " 'OP_CARRIER_REDUCED_YV',\n",
        " 'OP_CARRIER_REDUCED_YX',\n",
        " 'ORIGIN_REDUCED_ATL',\n",
        " 'ORIGIN_REDUCED_BOS',\n",
        " 'ORIGIN_REDUCED_DEN',\n",
        " 'ORIGIN_REDUCED_DFW',\n",
        " 'ORIGIN_REDUCED_EWR',\n",
        " 'ORIGIN_REDUCED_IAH',\n",
        " 'ORIGIN_REDUCED_LGA',\n",
        " 'ORIGIN_REDUCED_MCO',\n",
        " 'ORIGIN_REDUCED_MSP',\n",
        " 'ORIGIN_REDUCED_ORD',\n",
        " 'ORIGIN_REDUCED_OTHER',\n",
        " 'ORIGIN_REDUCED_SEA',\n",
        " 'ORIGIN_REDUCED_SFO',\n",
        " 'CRS_DEP_TIME_BUCKET_1pm-5pm',\n",
        " 'CRS_DEP_TIME_BUCKET_5am-9am',\n",
        " 'CRS_DEP_TIME_BUCKET_5pm-9pm',\n",
        " 'CRS_DEP_TIME_BUCKET_9am-1pm',\n",
        " 'CRS_DEP_TIME_BUCKET_Redeye',\n",
        " 'TYPE_AIRCRAFT_Fixed wing multi engine',\n",
        " 'TYPE_AIRCRAFT_Fixed wing single engine',\n",
        " 'TYPE_AIRCRAFT_Rotorcraft',\n",
        " 'TYPE_ENGINE_Reciprocating',\n",
        " 'TYPE_ENGINE_Turbo-fan',\n",
        " 'TYPE_ENGINE_Turbo-jet',\n",
        " 'TYPE_ENGINE_Turbo-prop',\n",
        " 'TYPE_ENGINE_Turbo-shaft',\n",
        " 'NO_ENG_1.0',\n",
        " 'NO_ENG_2.0',\n",
        " 'NO_ENG_3.0',\n",
        " 'AC_WEIGHT_CLASS 1',\n",
        " 'AC_WEIGHT_CLASS 2',\n",
        " 'AC_WEIGHT_CLASS 3',\n",
        " 'MFR_ENGINE_REDUCED_ALLISON',\n",
        " 'MFR_ENGINE_REDUCED_CFM',\n",
        " 'MFR_ENGINE_REDUCED_GE',\n",
        " 'MFR_ENGINE_REDUCED_IAE',\n",
        " 'MFR_ENGINE_REDUCED_LYCOMING',\n",
        " 'MFR_ENGINE_REDUCED_OTHER',\n",
        " 'MFR_ENGINE_REDUCED_PW',\n",
        " 'MFR_ENGINE_REDUCED_ROLLS',\n",
        " 'ACFT_MFR_REDUCED_AIRBUS',\n",
        " 'ACFT_MFR_REDUCED_ALENIA',\n",
        " 'ACFT_MFR_REDUCED_BELL',\n",
        " 'ACFT_MFR_REDUCED_BOEING',\n",
        " 'ACFT_MFR_REDUCED_BOMBARDIER',\n",
        " 'ACFT_MFR_REDUCED_CANADAIR',\n",
        " 'ACFT_MFR_REDUCED_CHAMPION',\n",
        " 'ACFT_MFR_REDUCED_CSERIES',\n",
        " 'ACFT_MFR_REDUCED_EMBRAER',\n",
        " 'ACFT_MFR_REDUCED_MCDONNELL',\n",
        " 'ACFT_MFR_REDUCED_OTHER',\n",
        " 'ACFT_MFR_REDUCED_PIPER',\n",
        " 'ACFT_MFR_REDUCED_SAAB',\n",
        " 'ACFT_MODEL_REDUCED_717_200',\n",
        " 'ACFT_MODEL_REDUCED_737',\n",
        " 'ACFT_MODEL_REDUCED_757',\n",
        " 'ACFT_MODEL_REDUCED_767',\n",
        " 'ACFT_MODEL_REDUCED_777',\n",
        " 'ACFT_MODEL_REDUCED_787',\n",
        " 'ACFT_MODEL_REDUCED_A319',\n",
        " 'ACFT_MODEL_REDUCED_A320',\n",
        " 'ACFT_MODEL_REDUCED_A321',\n",
        " 'ACFT_MODEL_REDUCED_A330',\n",
        " 'ACFT_MODEL_REDUCED_ATR42_500',\n",
        " 'ACFT_MODEL_REDUCED_BD500',\n",
        " 'ACFT_MODEL_REDUCED_CL600',\n",
        " 'ACFT_MODEL_REDUCED_DHC8',\n",
        " 'ACFT_MODEL_REDUCED_EMB135KL',\n",
        " 'ACFT_MODEL_REDUCED_EMB145',\n",
        " 'ACFT_MODEL_REDUCED_ERJ170',\n",
        " 'ACFT_MODEL_REDUCED_ERJ190',\n",
        " 'ACFT_MODEL_REDUCED_MD88',\n",
        " 'ACFT_MODEL_REDUCED_MD90_30',\n",
        " 'ACFT_MODEL_REDUCED_OTHER']]"
      ],
      "id": "eCdVoMeCZedO",
      "execution_count": null,
      "outputs": []
    },
    {
      "cell_type": "code",
      "metadata": {
        "id": "nsYk4YHKZedQ"
      },
      "source": [
        "scaled_data_final.shape"
      ],
      "id": "nsYk4YHKZedQ",
      "execution_count": null,
      "outputs": []
    },
    {
      "cell_type": "code",
      "metadata": {
        "id": "P3vdzGXcZedQ"
      },
      "source": [
        "scaled_data_final.head()"
      ],
      "id": "P3vdzGXcZedQ",
      "execution_count": null,
      "outputs": []
    },
    {
      "cell_type": "code",
      "metadata": {
        "id": "jGtCQHugZedR"
      },
      "source": [
        "from sklearn.decomposition import PCA\n",
        "pca = PCA()\n",
        "principalComponents = pca.fit_transform(scaled_data_final)\n",
        "plt.figure()\n",
        "plt.plot(np.cumsum(pca.explained_variance_ratio_))\n",
        "plt.xlabel('Number of Components')\n",
        "plt.ylabel('Variance (%)') #for each component\n",
        "plt.title('Explained Variance')\n",
        "plt.show()"
      ],
      "id": "jGtCQHugZedR",
      "execution_count": null,
      "outputs": []
    },
    {
      "cell_type": "markdown",
      "metadata": {
        "id": "dDdtiASuZedR"
      },
      "source": [
        "From the diagram above, it can be seen that 50 principal components explain almost 90% of the variance in data and 60 principal components explain around 95% of the variance in data.\n",
        "\n",
        "So, instead of giving all the columns as input, we’d only feed these 50 principal components of the data to the machine learning algorithm and we’d obtain a similar result."
      ],
      "id": "dDdtiASuZedR"
    },
    {
      "cell_type": "code",
      "metadata": {
        "id": "Xhpq6aOqZedR"
      },
      "source": [
        "pca = PCA(n_components=50)\n",
        "new_data = pca.fit_transform(scaled_data_final)\n",
        "# This will be the new data fed to the algorithm.\n",
        "principal_Df = pd.DataFrame(data = new_data\n",
        "             , columns = ['pc1','pc2','pc3','pc4','pc5','pc6','pc7','pc8','pc9','pc10',\n",
        "                          'pc11','pc12','pc13','pc14','pc15','pc16','pc17','pc18','pc19','pc20',\n",
        "                          'pc21','pc22','pc23','pc24','pc25','pc26','pc27','pc28','pc29','pc30',\n",
        "                         'pc31','pc32','pc33','pc34','pc35','pc36','pc37','pc38','pc39','pc40',\n",
        "                         'pc41','pc42','pc43','pc44','pc45','pc46','pc47','pc48','pc49','pc50'])"
      ],
      "id": "Xhpq6aOqZedR",
      "execution_count": null,
      "outputs": []
    },
    {
      "cell_type": "code",
      "metadata": {
        "id": "JNU72HN3ZedS"
      },
      "source": [
        "principal_Df.describe()"
      ],
      "id": "JNU72HN3ZedS",
      "execution_count": null,
      "outputs": []
    },
    {
      "cell_type": "code",
      "metadata": {
        "id": "v62q4eFeZedS"
      },
      "source": [
        "#principal_Df['DEP_DELAY']=base_dummied['DEP_DELAY']"
      ],
      "id": "v62q4eFeZedS",
      "execution_count": null,
      "outputs": []
    },
    {
      "cell_type": "code",
      "metadata": {
        "id": "UxqIcmYbZedT"
      },
      "source": [
        "principal_Df.info()"
      ],
      "id": "UxqIcmYbZedT",
      "execution_count": null,
      "outputs": []
    },
    {
      "cell_type": "code",
      "metadata": {
        "id": "ysGiTuQPZedU"
      },
      "source": [
        "principal_Df.describe()"
      ],
      "id": "ysGiTuQPZedU",
      "execution_count": null,
      "outputs": []
    },
    {
      "cell_type": "markdown",
      "metadata": {
        "id": "q-A10g6NZedV"
      },
      "source": [
        "# REGRESSION MODEL ON PCA DATA"
      ],
      "id": "q-A10g6NZedV"
    },
    {
      "cell_type": "code",
      "metadata": {
        "id": "D3n6Lo8TZedV"
      },
      "source": [
        "import pandas as pd\n",
        "from sklearn import linear_model\n",
        "import statsmodels.api as sm"
      ],
      "id": "D3n6Lo8TZedV",
      "execution_count": null,
      "outputs": []
    },
    {
      "cell_type": "code",
      "metadata": {
        "id": "x2o2XtihZedW"
      },
      "source": [
        "base_dummied_regression_Y.shape"
      ],
      "id": "x2o2XtihZedW",
      "execution_count": null,
      "outputs": []
    },
    {
      "cell_type": "code",
      "metadata": {
        "id": "F7qXTQs5ZedW"
      },
      "source": [
        "principal_Df.shape"
      ],
      "id": "F7qXTQs5ZedW",
      "execution_count": null,
      "outputs": []
    },
    {
      "cell_type": "code",
      "metadata": {
        "id": "17gq4BCkZedX"
      },
      "source": [
        "from sklearn.model_selection import train_test_split"
      ],
      "id": "17gq4BCkZedX",
      "execution_count": null,
      "outputs": []
    },
    {
      "cell_type": "code",
      "metadata": {
        "id": "j3UaAQhpZedY"
      },
      "source": [
        "x=principal_Df\n",
        "y=base_dummied_regression_Y"
      ],
      "id": "j3UaAQhpZedY",
      "execution_count": null,
      "outputs": []
    },
    {
      "cell_type": "code",
      "metadata": {
        "id": "v2DmBFQsZedY"
      },
      "source": [
        "x_train, x_test, y_train, y_test = train_test_split(x, y, test_size=0.2, random_state=4)"
      ],
      "id": "v2DmBFQsZedY",
      "execution_count": null,
      "outputs": []
    },
    {
      "cell_type": "code",
      "metadata": {
        "id": "Ab-RuRY_ZedZ"
      },
      "source": [
        "regr = linear_model.LinearRegression()\n",
        "regr.fit(x_train, y_train)"
      ],
      "id": "Ab-RuRY_ZedZ",
      "execution_count": null,
      "outputs": []
    },
    {
      "cell_type": "code",
      "metadata": {
        "id": "iUlimskrZedZ"
      },
      "source": [
        "y_pred=regr.predict(x_test)"
      ],
      "id": "iUlimskrZedZ",
      "execution_count": null,
      "outputs": []
    },
    {
      "cell_type": "code",
      "metadata": {
        "id": "P_hY0-ozZeda"
      },
      "source": [
        "from sklearn.metrics import mean_absolute_error\n",
        "from sklearn.metrics import mean_squared_error\n",
        "from sklearn.metrics import r2_score\n",
        "import math"
      ],
      "id": "P_hY0-ozZeda",
      "execution_count": null,
      "outputs": []
    },
    {
      "cell_type": "code",
      "metadata": {
        "id": "1EMKOpYSZeda"
      },
      "source": [
        "MAE=mean_absolute_error(y_test, y_pred)\n",
        "MAE"
      ],
      "id": "1EMKOpYSZeda",
      "execution_count": null,
      "outputs": []
    },
    {
      "cell_type": "code",
      "metadata": {
        "id": "VPH9lI_cZedb"
      },
      "source": [
        "MSE=mean_squared_error(y_test, y_pred)\n",
        "MSE"
      ],
      "id": "VPH9lI_cZedb",
      "execution_count": null,
      "outputs": []
    },
    {
      "cell_type": "code",
      "metadata": {
        "id": "gu74rEYyZedc"
      },
      "source": [
        "RMSE=math.sqrt(MSE)\n",
        "RMSE"
      ],
      "id": "gu74rEYyZedc",
      "execution_count": null,
      "outputs": []
    },
    {
      "cell_type": "code",
      "metadata": {
        "id": "E5qMjMGlZedd"
      },
      "source": [
        "R2=r2_score(y_test, y_pred)\n",
        "R2"
      ],
      "id": "E5qMjMGlZedd",
      "execution_count": null,
      "outputs": []
    },
    {
      "cell_type": "code",
      "metadata": {
        "id": "NrCyRQh1Zedd"
      },
      "source": [
        "regr.score(x_test, y_test)"
      ],
      "id": "NrCyRQh1Zedd",
      "execution_count": null,
      "outputs": []
    },
    {
      "cell_type": "code",
      "metadata": {
        "id": "mXMVxLL7Zede"
      },
      "source": [
        "regr.score(x_train, y_train)"
      ],
      "id": "mXMVxLL7Zede",
      "execution_count": null,
      "outputs": []
    },
    {
      "cell_type": "code",
      "metadata": {
        "id": "rS0QD0kXZedf"
      },
      "source": [
        ""
      ],
      "id": "rS0QD0kXZedf",
      "execution_count": null,
      "outputs": []
    },
    {
      "cell_type": "markdown",
      "metadata": {
        "id": "ERoKvSUaZedf"
      },
      "source": [
        "# RANDOM FOREST MODEL ON PCA DATA\n"
      ],
      "id": "ERoKvSUaZedf"
    },
    {
      "cell_type": "code",
      "metadata": {
        "id": "j4bd2dDqZedg"
      },
      "source": [
        "def create_categories(y):\n",
        "    if y<15 :\n",
        "        return \"NO DELAY\"\n",
        "    else:\n",
        "        if y<20:\n",
        "            return \"15MIN\"\n",
        "        else:\n",
        "            if y<35:\n",
        "                return \"30MIN\"\n",
        "            else:\n",
        "                if y<50:\n",
        "                    return \"45MIN\"\n",
        "                else:\n",
        "                    return \"60MIN\"\n",
        "    "
      ],
      "id": "j4bd2dDqZedg",
      "execution_count": null,
      "outputs": []
    },
    {
      "cell_type": "code",
      "metadata": {
        "id": "drRTjO8VZedg"
      },
      "source": [
        "create_categories(19)"
      ],
      "id": "drRTjO8VZedg",
      "execution_count": null,
      "outputs": []
    },
    {
      "cell_type": "code",
      "metadata": {
        "id": "vi2ikVzYZedh"
      },
      "source": [
        "y_new=y.apply(create_categories)"
      ],
      "id": "vi2ikVzYZedh",
      "execution_count": null,
      "outputs": []
    },
    {
      "cell_type": "code",
      "metadata": {
        "id": "ZVLgoiuGZedh"
      },
      "source": [
        "type(y_new)"
      ],
      "id": "ZVLgoiuGZedh",
      "execution_count": null,
      "outputs": []
    },
    {
      "cell_type": "code",
      "metadata": {
        "id": "lABhSOwQZedi"
      },
      "source": [
        "y_new=pd.DataFrame(y_new)\n",
        "y_new[\"Count\"]=1\n",
        "y_new"
      ],
      "id": "lABhSOwQZedi",
      "execution_count": null,
      "outputs": []
    },
    {
      "cell_type": "code",
      "metadata": {
        "id": "ZcobLRYOZedj"
      },
      "source": [
        "y_new.groupby(by=\"DEP_DELAY\")[\"Count\"].count()"
      ],
      "id": "ZcobLRYOZedj",
      "execution_count": null,
      "outputs": []
    },
    {
      "cell_type": "code",
      "metadata": {
        "id": "lEbE-bA7Zedk"
      },
      "source": [
        "y_new.drop(columns=[\"Count\"],inplace=True)\n",
        "y_new"
      ],
      "id": "lEbE-bA7Zedk",
      "execution_count": null,
      "outputs": []
    },
    {
      "cell_type": "code",
      "metadata": {
        "id": "6B-eNIVzZedl"
      },
      "source": [
        "x"
      ],
      "id": "6B-eNIVzZedl",
      "execution_count": null,
      "outputs": []
    },
    {
      "cell_type": "code",
      "metadata": {
        "id": "3UJ0HZZRZedm"
      },
      "source": [
        "from sklearn.model_selection import train_test_split"
      ],
      "id": "3UJ0HZZRZedm",
      "execution_count": null,
      "outputs": []
    },
    {
      "cell_type": "code",
      "metadata": {
        "id": "5iCqUDF7Zedn"
      },
      "source": [
        "x_train, x_test, y_train, y_test = train_test_split(x, y_new, test_size=0.2, random_state=4,stratify=y_new)"
      ],
      "id": "5iCqUDF7Zedn",
      "execution_count": null,
      "outputs": []
    },
    {
      "cell_type": "code",
      "metadata": {
        "id": "XRHiS_zqZedn"
      },
      "source": [
        "rf = RandomForestClassifier(n_estimators=30, max_depth=15, random_state=123, n_jobs=-1)\n",
        "rf.fit(x_train, y_train)"
      ],
      "id": "XRHiS_zqZedn",
      "execution_count": null,
      "outputs": []
    },
    {
      "cell_type": "code",
      "metadata": {
        "id": "-9en-lHdZedo"
      },
      "source": [
        "# Gini importance\n",
        "sorted_index = rf.feature_importances_.argsort()\n",
        "plt.figure(figsize=[10,10])\n",
        "plt.barh(x_train.columns[sorted_index].tolist()[:], rf.feature_importances_[sorted_index][:])\n",
        "plt.xlabel(\"Feature Importance\")"
      ],
      "id": "-9en-lHdZedo",
      "execution_count": null,
      "outputs": []
    },
    {
      "cell_type": "code",
      "metadata": {
        "id": "w3fqmQenZedp"
      },
      "source": [
        "y_pred_rf=rf.predict(x_test)"
      ],
      "id": "w3fqmQenZedp",
      "execution_count": null,
      "outputs": []
    },
    {
      "cell_type": "code",
      "metadata": {
        "id": "O4fVCshSZedp"
      },
      "source": [
        "from sklearn.metrics import accuracy_score"
      ],
      "id": "O4fVCshSZedp",
      "execution_count": null,
      "outputs": []
    },
    {
      "cell_type": "code",
      "metadata": {
        "id": "gfgJOK9DZedq"
      },
      "source": [
        "rf_accuracy=accuracy_score(y_test, y_pred_rf)\n",
        "rf_accuracy"
      ],
      "id": "gfgJOK9DZedq",
      "execution_count": null,
      "outputs": []
    },
    {
      "cell_type": "code",
      "metadata": {
        "id": "SX-VOBjQZedq"
      },
      "source": [
        "from sklearn.metrics import f1_score"
      ],
      "id": "SX-VOBjQZedq",
      "execution_count": null,
      "outputs": []
    },
    {
      "cell_type": "code",
      "metadata": {
        "id": "fxthedczZedr"
      },
      "source": [
        "f1_score(y_test, y_pred_rf, average='macro')"
      ],
      "id": "fxthedczZedr",
      "execution_count": null,
      "outputs": []
    },
    {
      "cell_type": "code",
      "metadata": {
        "id": "5JUv44LvZedr"
      },
      "source": [
        "f1_score(y_test, y_pred_rf, average='micro')"
      ],
      "id": "5JUv44LvZedr",
      "execution_count": null,
      "outputs": []
    },
    {
      "cell_type": "code",
      "metadata": {
        "id": "m38DsoSaZeds"
      },
      "source": [
        "f1_score(y_test, y_pred_rf, average='weighted')"
      ],
      "id": "m38DsoSaZeds",
      "execution_count": null,
      "outputs": []
    },
    {
      "cell_type": "code",
      "metadata": {
        "id": "RfSdKqPSZedt"
      },
      "source": [
        "f1_score(y_test, y_pred_rf, average=None)"
      ],
      "id": "RfSdKqPSZedt",
      "execution_count": null,
      "outputs": []
    },
    {
      "cell_type": "code",
      "metadata": {
        "id": "8P_Fy_sBZedu"
      },
      "source": [
        "from sklearn.metrics import roc_auc_score"
      ],
      "id": "8P_Fy_sBZedu",
      "execution_count": null,
      "outputs": []
    },
    {
      "cell_type": "code",
      "metadata": {
        "id": "RZaVc20aZedu"
      },
      "source": [
        "y_pred_proba=rf.predict_proba(x_test)\n",
        "y_pred_proba"
      ],
      "id": "RZaVc20aZedu",
      "execution_count": null,
      "outputs": []
    },
    {
      "cell_type": "code",
      "metadata": {
        "id": "eeaN-XSOZedv"
      },
      "source": [
        "y_test_new=pd.get_dummies(y_test)\n",
        "y_test_new"
      ],
      "id": "eeaN-XSOZedv",
      "execution_count": null,
      "outputs": []
    },
    {
      "cell_type": "code",
      "metadata": {
        "id": "albGoGzrZedw"
      },
      "source": [
        "roc_auc_score(y_test_new, rf.predict_proba(x_test))"
      ],
      "id": "albGoGzrZedw",
      "execution_count": null,
      "outputs": []
    },
    {
      "cell_type": "code",
      "metadata": {
        "id": "CuONN56aZedz"
      },
      "source": [
        "from sklearn.metrics import roc_curve, auc\n",
        "\n",
        "y_score_rf = y_pred_proba\n",
        "n_classes_rf = y_test_new.shape[1]\n",
        "n_classes_rf"
      ],
      "id": "CuONN56aZedz",
      "execution_count": null,
      "outputs": []
    },
    {
      "cell_type": "code",
      "metadata": {
        "id": "GXEO4B2JZedz"
      },
      "source": [
        "y_score_rf"
      ],
      "id": "GXEO4B2JZedz",
      "execution_count": null,
      "outputs": []
    },
    {
      "cell_type": "code",
      "metadata": {
        "id": "HnhVzKmYZed0"
      },
      "source": [
        "y_test_new1=np.asarray(y_test_new)\n",
        "y_test_new1"
      ],
      "id": "HnhVzKmYZed0",
      "execution_count": null,
      "outputs": []
    },
    {
      "cell_type": "code",
      "metadata": {
        "id": "ZlrlcD3TZed1"
      },
      "source": [
        "# Compute ROC curve and ROC area for each class\n",
        "fpr = dict()\n",
        "tpr = dict()\n",
        "roc_auc = dict()\n",
        "for i in range(n_classes_rf):\n",
        "    fpr[i], tpr[i], _ = roc_curve(y_test_new1[:, i], y_score_rf[:, i])\n",
        "    roc_auc[i] = auc(fpr[i], tpr[i])\n",
        "\n",
        "# Compute micro-average ROC curve and ROC area\n",
        "fpr[\"micro\"], tpr[\"micro\"], _ = roc_curve(y_test_new1.ravel(), y_score_rf.ravel())\n",
        "roc_auc[\"micro\"] = auc(fpr[\"micro\"], tpr[\"micro\"])"
      ],
      "id": "ZlrlcD3TZed1",
      "execution_count": null,
      "outputs": []
    },
    {
      "cell_type": "code",
      "metadata": {
        "id": "yPfg_F0xZed1"
      },
      "source": [
        "plt.figure()\n",
        "lw = 2\n",
        "plt.plot(fpr[2], tpr[2], color='darkorange',\n",
        "         lw=lw, label='ROC curve (area = %0.2f)' % roc_auc[2])\n",
        "plt.plot([0, 1], [0, 1], color='navy', lw=lw, linestyle='--')\n",
        "plt.xlim([0.0, 1.0])\n",
        "plt.ylim([0.0, 1.05])\n",
        "plt.xlabel('False Positive Rate')\n",
        "plt.ylabel('True Positive Rate')\n",
        "plt.title('Receiver operating characteristic example')\n",
        "plt.legend(loc=\"lower right\")\n",
        "plt.show()"
      ],
      "id": "yPfg_F0xZed1",
      "execution_count": null,
      "outputs": []
    },
    {
      "cell_type": "code",
      "metadata": {
        "id": "V3eu-rANZed2"
      },
      "source": [
        ""
      ],
      "id": "V3eu-rANZed2",
      "execution_count": null,
      "outputs": []
    },
    {
      "cell_type": "code",
      "metadata": {
        "id": "KoLNEjv9Zed3"
      },
      "source": [
        ""
      ],
      "id": "KoLNEjv9Zed3",
      "execution_count": null,
      "outputs": []
    },
    {
      "cell_type": "code",
      "metadata": {
        "id": "ejBfKbCrZed4"
      },
      "source": [
        ""
      ],
      "id": "ejBfKbCrZed4",
      "execution_count": null,
      "outputs": []
    },
    {
      "cell_type": "markdown",
      "metadata": {
        "id": "aKSGsLSJZed4"
      },
      "source": [
        "### Logistic Regression"
      ],
      "id": "aKSGsLSJZed4"
    },
    {
      "cell_type": "code",
      "metadata": {
        "id": "4vJUsYnSZed5"
      },
      "source": [
        "from sklearn.datasets import load_iris\n",
        "from sklearn.linear_model import LogisticRegression\n"
      ],
      "id": "4vJUsYnSZed5",
      "execution_count": null,
      "outputs": []
    },
    {
      "cell_type": "code",
      "metadata": {
        "id": "kswu08KfZed6"
      },
      "source": [
        "lgr = LogisticRegression(random_state=0).fit(x_train, y_train)\n",
        "lgr.predict(x_test)\n",
        "\n",
        "#clf.predict_proba()\n",
        "\n",
        "#clf.score(x, y)"
      ],
      "id": "kswu08KfZed6",
      "execution_count": null,
      "outputs": []
    },
    {
      "cell_type": "code",
      "metadata": {
        "id": "BVn0yTNAZed6"
      },
      "source": [
        "y_pred_proba_lgr=clf.predict_proba(x_test)\n",
        "y_pred_proba_lgr"
      ],
      "id": "BVn0yTNAZed6",
      "execution_count": null,
      "outputs": []
    },
    {
      "cell_type": "code",
      "metadata": {
        "id": "HjkJWyI2Zed7"
      },
      "source": [
        "y_score_lgr = y_pred_proba_clf\n",
        "n_classes_lgr = y_test_new.shape[1]\n",
        "n_classes_lgr"
      ],
      "id": "HjkJWyI2Zed7",
      "execution_count": null,
      "outputs": []
    },
    {
      "cell_type": "code",
      "metadata": {
        "id": "HaeBMywUZed8"
      },
      "source": [
        "# Compute ROC curve and ROC area for each class\n",
        "fpr = dict()\n",
        "tpr = dict()\n",
        "roc_auc = dict()\n",
        "for i in range(n_classes_lgr):\n",
        "    fpr[i], tpr[i], _ = roc_curve(y_test_new1[:, i], y_score_lgr[:, i])\n",
        "    roc_auc[i] = auc(fpr[i], tpr[i])\n",
        "\n",
        "# Compute micro-average ROC curve and ROC area\n",
        "fpr[\"micro\"], tpr[\"micro\"], _ = roc_curve(y_test_new1.ravel(), y_score_lgr.ravel())\n",
        "roc_auc[\"micro\"] = auc(fpr[\"micro\"], tpr[\"micro\"])"
      ],
      "id": "HaeBMywUZed8",
      "execution_count": null,
      "outputs": []
    },
    {
      "cell_type": "code",
      "metadata": {
        "id": "zBhxJ9V_Zed8"
      },
      "source": [
        "plt.figure()\n",
        "lw = 2\n",
        "plt.plot(fpr[2], tpr[2], color='darkorange',\n",
        "         lw=lw, label='ROC curve (area = %0.2f)' % roc_auc[2])\n",
        "plt.plot([0, 1], [0, 1], color='navy', lw=lw, linestyle='--')\n",
        "plt.xlim([0.0, 1.0])\n",
        "plt.ylim([0.0, 1.05])\n",
        "plt.xlabel('False Positive Rate')\n",
        "plt.ylabel('True Positive Rate')\n",
        "plt.title('Receiver operating characteristic example')\n",
        "plt.legend(loc=\"lower right\")\n",
        "plt.show()"
      ],
      "id": "zBhxJ9V_Zed8",
      "execution_count": null,
      "outputs": []
    },
    {
      "cell_type": "markdown",
      "metadata": {
        "id": "RF-MDJj-Zed9"
      },
      "source": [
        "# ENSEMBLE OF RF and LG"
      ],
      "id": "RF-MDJj-Zed9"
    },
    {
      "cell_type": "code",
      "metadata": {
        "id": "53IiVY77Zed9"
      },
      "source": [
        "y_score_lgr"
      ],
      "id": "53IiVY77Zed9",
      "execution_count": null,
      "outputs": []
    },
    {
      "cell_type": "code",
      "metadata": {
        "id": "GYyw0p3QZed-"
      },
      "source": [
        "y_score_rf"
      ],
      "id": "GYyw0p3QZed-",
      "execution_count": null,
      "outputs": []
    },
    {
      "cell_type": "code",
      "metadata": {
        "id": "j7B5H_WMZed_"
      },
      "source": [
        "y_score_ensemble=(y_score_lgr + y_score_rf)/2\n",
        "y_score_ensemble"
      ],
      "id": "j7B5H_WMZed_",
      "execution_count": null,
      "outputs": []
    },
    {
      "cell_type": "code",
      "metadata": {
        "id": "pV2nHSkPZeeA"
      },
      "source": [
        "n_classes_ens= y_test_new.shape[1]\n",
        "n_classes_ens"
      ],
      "id": "pV2nHSkPZeeA",
      "execution_count": null,
      "outputs": []
    },
    {
      "cell_type": "code",
      "metadata": {
        "id": "3knWsoc_ZeeA"
      },
      "source": [
        "# Compute ROC curve and ROC area for each class\n",
        "fpr = dict()\n",
        "tpr = dict()\n",
        "roc_auc = dict()\n",
        "for i in range(n_classes_lgr):\n",
        "    fpr[i], tpr[i], _ = roc_curve(y_test_new1[:, i], y_score_ensemble[:, i])\n",
        "    roc_auc[i] = auc(fpr[i], tpr[i])\n",
        "\n",
        "# Compute micro-average ROC curve and ROC area\n",
        "fpr[\"micro\"], tpr[\"micro\"], _ = roc_curve(y_test_new1.ravel(), y_score_ensemble.ravel())\n",
        "roc_auc[\"micro\"] = auc(fpr[\"micro\"], tpr[\"micro\"])"
      ],
      "id": "3knWsoc_ZeeA",
      "execution_count": null,
      "outputs": []
    },
    {
      "cell_type": "code",
      "metadata": {
        "id": "MtVQGPg9ZeeB"
      },
      "source": [
        "plt.figure()\n",
        "lw = 2\n",
        "plt.plot(fpr[2], tpr[2], color='darkorange',\n",
        "         lw=lw, label='ROC curve (area = %0.2f)' % roc_auc[2])\n",
        "plt.plot([0, 1], [0, 1], color='navy', lw=lw, linestyle='--')\n",
        "plt.xlim([0.0, 1.0])\n",
        "plt.ylim([0.0, 1.05])\n",
        "plt.xlabel('False Positive Rate')\n",
        "plt.ylabel('True Positive Rate')\n",
        "plt.title('Receiver operating characteristic example')\n",
        "plt.legend(loc=\"lower right\")\n",
        "plt.show()"
      ],
      "id": "MtVQGPg9ZeeB",
      "execution_count": null,
      "outputs": []
    },
    {
      "cell_type": "markdown",
      "metadata": {
        "id": "5KO9P7o8ZeeC"
      },
      "source": [
        "# NEURAL NETWORK"
      ],
      "id": "5KO9P7o8ZeeC"
    },
    {
      "cell_type": "code",
      "metadata": {
        "id": "IZ4cvYY7ZeeC"
      },
      "source": [
        "!pip install tensorflow"
      ],
      "id": "IZ4cvYY7ZeeC",
      "execution_count": null,
      "outputs": []
    },
    {
      "cell_type": "code",
      "metadata": {
        "id": "8m0yJnLLZeeD"
      },
      "source": [
        "import tensorflow as tf"
      ],
      "id": "8m0yJnLLZeeD",
      "execution_count": null,
      "outputs": []
    },
    {
      "cell_type": "code",
      "metadata": {
        "id": "ouR67cfjZeeD"
      },
      "source": [
        "tf.__version__"
      ],
      "id": "ouR67cfjZeeD",
      "execution_count": null,
      "outputs": []
    },
    {
      "cell_type": "code",
      "metadata": {
        "id": "cYgMepMzZeeE"
      },
      "source": [
        "x_train.shape"
      ],
      "id": "cYgMepMzZeeE",
      "execution_count": null,
      "outputs": []
    },
    {
      "cell_type": "code",
      "metadata": {
        "id": "IjScuFTiZeeE"
      },
      "source": [
        "import tensorflow as tf\n",
        "\n",
        "# Prepare data.\n",
        "#(x_train, y_train), (x_test, y_test) = tf.keras.datasets.mnist.load_data()\n",
        "#x_train, x_test = x_train / 255.0, x_test / 255.0\n",
        "\n",
        "# Create a base model -- sequential, functional, or subclass.\n",
        "model = tf.keras.Sequential([\n",
        "    tf.keras.Input((511678, 50), name='feature'),\n",
        "    tf.keras.layers.Flatten(),\n",
        "    tf.keras.layers.Dense(128, activation=tf.nn.relu),\n",
        "    tf.keras.layers.Dense(5, activation=tf.nn.softmax)\n",
        "])\n",
        "\n",
        "# Compile, train, and evaluate.\n",
        "model.compile(optimizer='adam',\n",
        "                  loss='sparse_categorical_crossentropy',\n",
        "                  metrics=['accuracy'])\n",
        "model.fit({'feature': x_train, 'label': y_train}, batch_size=32, epochs=5)\n",
        "model.evaluate({'feature': x_test, 'label': y_test})"
      ],
      "id": "IjScuFTiZeeE",
      "execution_count": null,
      "outputs": []
    },
    {
      "cell_type": "code",
      "metadata": {
        "id": "tCPlyvTsZeeF"
      },
      "source": [
        ""
      ],
      "id": "tCPlyvTsZeeF",
      "execution_count": null,
      "outputs": []
    },
    {
      "cell_type": "code",
      "metadata": {
        "id": "kBynJvoaZeeG"
      },
      "source": [
        ""
      ],
      "id": "kBynJvoaZeeG",
      "execution_count": null,
      "outputs": []
    }
  ]
}