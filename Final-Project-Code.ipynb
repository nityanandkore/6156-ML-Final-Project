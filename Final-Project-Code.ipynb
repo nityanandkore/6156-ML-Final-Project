{
  "nbformat": 4,
  "nbformat_minor": 0,
  "metadata": {
    "colab": {
      "name": "Untitled0.ipynb",
      "provenance": [],
      "authorship_tag": "ABX9TyOw0Q1yBwaGxxuqQZphmDBO",
      "include_colab_link": true
    },
    "kernelspec": {
      "name": "python3",
      "display_name": "Python 3"
    },
    "language_info": {
      "name": "python"
    }
  },
  "cells": [
    {
      "cell_type": "markdown",
      "metadata": {
        "id": "view-in-github",
        "colab_type": "text"
      },
      "source": [
        "<a href=\"https://colab.research.google.com/github/nityanandkore/6156-ML-Final-Project/blob/main/Final-Project-Code.ipynb\" target=\"_parent\"><img src=\"https://colab.research.google.com/assets/colab-badge.svg\" alt=\"Open In Colab\"/></a>"
      ]
    },
    {
      "cell_type": "code",
      "metadata": {
        "colab": {
          "base_uri": "https://localhost:8080/"
        },
        "id": "lpVgIzmyEp4T",
        "outputId": "2ab4d721-8ca4-44f9-8673-3ab40120c912"
      },
      "source": [
        "!rm 6156-ML-Final-Project\n",
        "!git clone git@github.com:nityanandkore/6156-ML-Final-Project.git"
      ],
      "execution_count": 2,
      "outputs": [
        {
          "output_type": "stream",
          "text": [
            "rm: cannot remove '6156-ML-Final-Project': No such file or directory\n",
            "Cloning into '6156-ML-Final-Project'...\n",
            "Host key verification failed.\n",
            "fatal: Could not read from remote repository.\n",
            "\n",
            "Please make sure you have the correct access rights\n",
            "and the repository exists.\n"
          ],
          "name": "stdout"
        }
      ]
    },
    {
      "cell_type": "code",
      "metadata": {
        "id": "Ap14O6XEFMzz"
      },
      "source": [
        "import pandas as pd\n",
        "df=pd.read_csv(\"/content/6156-ML-Final-Project/SAMPLE_COMBINED_TABLE_2018.csv\", sep=\"\\t\")"
      ],
      "execution_count": null,
      "outputs": []
    }
  ]
}